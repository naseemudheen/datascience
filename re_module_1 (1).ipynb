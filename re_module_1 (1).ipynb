{
  "nbformat": 4,
  "nbformat_minor": 0,
  "metadata": {
    "colab": {
      "provenance": [],
      "collapsed_sections": []
    },
    "kernelspec": {
      "name": "python3",
      "display_name": "Python 3"
    },
    "language_info": {
      "name": "python"
    }
  },
  "cells": [
    {
      "cell_type": "markdown",
      "source": [
        "# **The \"re\" module** (in-built module)"
      ],
      "metadata": {
        "id": "v9G-1fNWQof0"
      }
    },
    {
      "cell_type": "markdown",
      "source": [
        "A module is basically a Python file consistng of Python executable code, functions, statements, definitions, etc. \n",
        "\n",
        "There are two types of modules - 1.Python in-built modules  2. user-defined modules"
      ],
      "metadata": {
        "id": "5IhvjA3EnZYB"
      }
    },
    {
      "cell_type": "markdown",
      "source": [
        "\"re\" module\n",
        "______________\n",
        "A regular expression is mainly useful for text processing. It is a special sequence of characters which helps to match or find other strings of sets of strings using a specialized syntax held in a pattern. Regular expressions are found from \"re\" module in Python. "
      ],
      "metadata": {
        "id": "e8ceclNPtR0L"
      }
    },
    {
      "cell_type": "markdown",
      "source": [
        "The most common functions of regular expression are findall(), match(), search(), sub(), split()"
      ],
      "metadata": {
        "id": "ug2JCLa5wwAn"
      }
    },
    {
      "cell_type": "markdown",
      "source": [
        "\n",
        "\n",
        "*   The sub() function is used for replacing a string with another string\n",
        "*   Both match() and search() functions are used for searching a   \n",
        "    particular pattern in a string\n",
        "\n",
        "\n",
        "\n",
        "\n"
      ],
      "metadata": {
        "id": "XE-5Fbnaw_oF"
      }
    },
    {
      "cell_type": "code",
      "source": [
        "# Importing \"re\" module\n",
        "import re"
      ],
      "metadata": {
        "id": "AlptSB7ou5Jh"
      },
      "execution_count": null,
      "outputs": []
    },
    {
      "cell_type": "code",
      "source": [
        "st=\"Hi! Welcome to Python world\"\n",
        "print(st)"
      ],
      "metadata": {
        "colab": {
          "base_uri": "https://localhost:8080/"
        },
        "id": "R9mIYFbSvKpg",
        "outputId": "71a3d0ae-2ee9-472a-b6b9-938eea096e42"
      },
      "execution_count": null,
      "outputs": [
        {
          "output_type": "stream",
          "name": "stdout",
          "text": [
            "Hi! Welcome to Python world\n"
          ]
        }
      ]
    },
    {
      "cell_type": "code",
      "source": [
        "st1=re.sub('Hi!','Good Morning',st) #replaces 'Hi!' with 'Good Morning'\n",
        "print(st1)"
      ],
      "metadata": {
        "colab": {
          "base_uri": "https://localhost:8080/"
        },
        "id": "70Q5fZmjvXiS",
        "outputId": "c62e75c5-a7cb-42b0-822d-c87e0e54b8ad"
      },
      "execution_count": null,
      "outputs": [
        {
          "output_type": "stream",
          "name": "stdout",
          "text": [
            "Good Morning Welcome to Python world\n"
          ]
        }
      ]
    },
    {
      "cell_type": "code",
      "source": [
        "name=input(\"Enter your name: \")\n",
        "st2=re.sub('Hi!',name,st)\n",
        "print(st2)"
      ],
      "metadata": {
        "colab": {
          "base_uri": "https://localhost:8080/",
          "height": 363
        },
        "id": "zr3IXHrjwP92",
        "outputId": "7763c46a-3791-442c-d4d0-40b471e2af46"
      },
      "execution_count": null,
      "outputs": [
        {
          "output_type": "error",
          "ename": "KeyboardInterrupt",
          "evalue": "ignored",
          "traceback": [
            "\u001b[0;31m---------------------------------------------------------------------------\u001b[0m",
            "\u001b[0;31mKeyboardInterrupt\u001b[0m                         Traceback (most recent call last)",
            "\u001b[0;32m<ipython-input-4-b13c50de7d00>\u001b[0m in \u001b[0;36m<module>\u001b[0;34m\u001b[0m\n\u001b[0;32m----> 1\u001b[0;31m \u001b[0mname\u001b[0m\u001b[0;34m=\u001b[0m\u001b[0minput\u001b[0m\u001b[0;34m(\u001b[0m\u001b[0;34m\"Enter your name: \"\u001b[0m\u001b[0;34m)\u001b[0m\u001b[0;34m\u001b[0m\u001b[0;34m\u001b[0m\u001b[0m\n\u001b[0m\u001b[1;32m      2\u001b[0m \u001b[0mst2\u001b[0m\u001b[0;34m=\u001b[0m\u001b[0mre\u001b[0m\u001b[0;34m.\u001b[0m\u001b[0msub\u001b[0m\u001b[0;34m(\u001b[0m\u001b[0;34m'Hi!'\u001b[0m\u001b[0;34m,\u001b[0m\u001b[0mname\u001b[0m\u001b[0;34m,\u001b[0m\u001b[0mst\u001b[0m\u001b[0;34m)\u001b[0m\u001b[0;34m\u001b[0m\u001b[0;34m\u001b[0m\u001b[0m\n\u001b[1;32m      3\u001b[0m \u001b[0mprint\u001b[0m\u001b[0;34m(\u001b[0m\u001b[0mst2\u001b[0m\u001b[0;34m)\u001b[0m\u001b[0;34m\u001b[0m\u001b[0;34m\u001b[0m\u001b[0m\n",
            "\u001b[0;32m/usr/local/lib/python3.7/dist-packages/ipykernel/kernelbase.py\u001b[0m in \u001b[0;36mraw_input\u001b[0;34m(self, prompt)\u001b[0m\n\u001b[1;32m    861\u001b[0m             \u001b[0mself\u001b[0m\u001b[0;34m.\u001b[0m\u001b[0m_parent_ident\u001b[0m\u001b[0;34m,\u001b[0m\u001b[0;34m\u001b[0m\u001b[0;34m\u001b[0m\u001b[0m\n\u001b[1;32m    862\u001b[0m             \u001b[0mself\u001b[0m\u001b[0;34m.\u001b[0m\u001b[0m_parent_header\u001b[0m\u001b[0;34m,\u001b[0m\u001b[0;34m\u001b[0m\u001b[0;34m\u001b[0m\u001b[0m\n\u001b[0;32m--> 863\u001b[0;31m             \u001b[0mpassword\u001b[0m\u001b[0;34m=\u001b[0m\u001b[0;32mFalse\u001b[0m\u001b[0;34m,\u001b[0m\u001b[0;34m\u001b[0m\u001b[0;34m\u001b[0m\u001b[0m\n\u001b[0m\u001b[1;32m    864\u001b[0m         )\n\u001b[1;32m    865\u001b[0m \u001b[0;34m\u001b[0m\u001b[0m\n",
            "\u001b[0;32m/usr/local/lib/python3.7/dist-packages/ipykernel/kernelbase.py\u001b[0m in \u001b[0;36m_input_request\u001b[0;34m(self, prompt, ident, parent, password)\u001b[0m\n\u001b[1;32m    902\u001b[0m             \u001b[0;32mexcept\u001b[0m \u001b[0mKeyboardInterrupt\u001b[0m\u001b[0;34m:\u001b[0m\u001b[0;34m\u001b[0m\u001b[0;34m\u001b[0m\u001b[0m\n\u001b[1;32m    903\u001b[0m                 \u001b[0;31m# re-raise KeyboardInterrupt, to truncate traceback\u001b[0m\u001b[0;34m\u001b[0m\u001b[0;34m\u001b[0m\u001b[0;34m\u001b[0m\u001b[0m\n\u001b[0;32m--> 904\u001b[0;31m                 \u001b[0;32mraise\u001b[0m \u001b[0mKeyboardInterrupt\u001b[0m\u001b[0;34m(\u001b[0m\u001b[0;34m\"Interrupted by user\"\u001b[0m\u001b[0;34m)\u001b[0m \u001b[0;32mfrom\u001b[0m \u001b[0;32mNone\u001b[0m\u001b[0;34m\u001b[0m\u001b[0;34m\u001b[0m\u001b[0m\n\u001b[0m\u001b[1;32m    905\u001b[0m             \u001b[0;32mexcept\u001b[0m \u001b[0mException\u001b[0m \u001b[0;32mas\u001b[0m \u001b[0me\u001b[0m\u001b[0;34m:\u001b[0m\u001b[0;34m\u001b[0m\u001b[0;34m\u001b[0m\u001b[0m\n\u001b[1;32m    906\u001b[0m                 \u001b[0mself\u001b[0m\u001b[0;34m.\u001b[0m\u001b[0mlog\u001b[0m\u001b[0;34m.\u001b[0m\u001b[0mwarning\u001b[0m\u001b[0;34m(\u001b[0m\u001b[0;34m\"Invalid Message:\"\u001b[0m\u001b[0;34m,\u001b[0m \u001b[0mexc_info\u001b[0m\u001b[0;34m=\u001b[0m\u001b[0;32mTrue\u001b[0m\u001b[0;34m)\u001b[0m\u001b[0;34m\u001b[0m\u001b[0;34m\u001b[0m\u001b[0m\n",
            "\u001b[0;31mKeyboardInterrupt\u001b[0m: Interrupted by user"
          ]
        }
      ]
    },
    {
      "cell_type": "code",
      "source": [
        "print(re.match('Go',st1))\n",
        " #This command searches for 'Go' at the first position of string st1. \n",
        " # 'Go' is located at the first place and hence it returns span(0,2) which means that it is located at 0 index and is apanned till 2."
      ],
      "metadata": {
        "colab": {
          "base_uri": "https://localhost:8080/"
        },
        "id": "phvwggNbyDph",
        "outputId": "c22e5ffe-d4c1-4450-abd9-4cf0d7c17a2c"
      },
      "execution_count": null,
      "outputs": [
        {
          "output_type": "stream",
          "name": "stdout",
          "text": [
            "<re.Match object; span=(0, 2), match='Go'>\n"
          ]
        }
      ]
    },
    {
      "cell_type": "code",
      "source": [
        "print(re.match('Go',st))"
      ],
      "metadata": {
        "colab": {
          "base_uri": "https://localhost:8080/"
        },
        "id": "H0vze4eaaZc-",
        "outputId": "9ab2f540-ca37-465e-dfe5-64a546a613d3"
      },
      "execution_count": null,
      "outputs": [
        {
          "output_type": "stream",
          "name": "stdout",
          "text": [
            "None\n"
          ]
        }
      ]
    },
    {
      "cell_type": "code",
      "source": [
        "print(re.match('wo',st))\n",
        "#This returns none because 'wo' is not located at index 0."
      ],
      "metadata": {
        "colab": {
          "base_uri": "https://localhost:8080/"
        },
        "id": "sPJvBLMayZlB",
        "outputId": "3c7678f4-6ae0-4347-b112-e1e11ec58ff1"
      },
      "execution_count": null,
      "outputs": [
        {
          "output_type": "stream",
          "name": "stdout",
          "text": [
            "None\n"
          ]
        }
      ]
    },
    {
      "cell_type": "code",
      "source": [
        "print(re.search('Mo',st1))\n",
        "# search() function searches the entire string. Here, returns the span(5,7)"
      ],
      "metadata": {
        "colab": {
          "base_uri": "https://localhost:8080/"
        },
        "id": "bpgTih08ym-P",
        "outputId": "7adc1bf7-5dfc-4c91-d7dc-0351fb1124e4"
      },
      "execution_count": null,
      "outputs": [
        {
          "output_type": "stream",
          "name": "stdout",
          "text": [
            "<re.Match object; span=(5, 7), match='Mo'>\n"
          ]
        }
      ]
    },
    {
      "cell_type": "code",
      "source": [
        "n='abc10000567'"
      ],
      "metadata": {
        "id": "SmcSHNRf2Ebh"
      },
      "execution_count": null,
      "outputs": []
    },
    {
      "cell_type": "code",
      "source": [
        "# write a python program that matches a string that has a 1 followed by 0 or more zero\n",
        "\n",
        "print(re.search(r'10*',n))"
      ],
      "metadata": {
        "colab": {
          "base_uri": "https://localhost:8080/"
        },
        "id": "HL1EVRdqfHTE",
        "outputId": "0eb706a3-5675-4b6f-caa8-a2dd57f4f122"
      },
      "execution_count": null,
      "outputs": [
        {
          "output_type": "stream",
          "name": "stdout",
          "text": [
            "<re.Match object; span=(3, 8), match='10000'>\n"
          ]
        }
      ]
    },
    {
      "cell_type": "code",
      "source": [
        "# write a python program that matches a string that has a 1 followed by one or more zero\n",
        "\n",
        "n1=\"abc900089109\"\n",
        "print(re.search(r'10+',n1))"
      ],
      "metadata": {
        "colab": {
          "base_uri": "https://localhost:8080/"
        },
        "id": "proLDO1ngLe_",
        "outputId": "cb77e643-94b4-4223-8544-79971bdb8ccc"
      },
      "execution_count": null,
      "outputs": [
        {
          "output_type": "stream",
          "name": "stdout",
          "text": [
            "<re.Match object; span=(9, 11), match='10'>\n"
          ]
        }
      ]
    },
    {
      "cell_type": "code",
      "source": [
        "# write a python program that matches a string that has a letter followed by zero or one 0\n",
        "p='a000'\n",
        "print(re.search(r'[a-z]0?',p))"
      ],
      "metadata": {
        "colab": {
          "base_uri": "https://localhost:8080/"
        },
        "id": "qoCZrO8SjgES",
        "outputId": "cfaecf78-f4af-4fc0-b20c-f0acad916275"
      },
      "execution_count": null,
      "outputs": [
        {
          "output_type": "stream",
          "name": "stdout",
          "text": [
            "<re.Match object; span=(0, 2), match='a0'>\n"
          ]
        }
      ]
    },
    {
      "cell_type": "code",
      "source": [
        "p='tin0'\n",
        "print(re.search(r'[a-z]0?',p))"
      ],
      "metadata": {
        "colab": {
          "base_uri": "https://localhost:8080/"
        },
        "id": "6cxhisjFkUcy",
        "outputId": "4f37c179-597b-4bfc-8e32-f70faab47760"
      },
      "execution_count": null,
      "outputs": [
        {
          "output_type": "stream",
          "name": "stdout",
          "text": [
            "<re.Match object; span=(0, 1), match='t'>\n"
          ]
        }
      ]
    },
    {
      "cell_type": "code",
      "source": [
        "# write a python program that matches a string that has a 1 followed by 3 '0' s\n",
        "a='tin1000'\n",
        "print(re.search(r'10{3}',a))"
      ],
      "metadata": {
        "colab": {
          "base_uri": "https://localhost:8080/"
        },
        "id": "exrPEHqalv6q",
        "outputId": "19e19687-8e8e-4ab9-ec39-fd0f444b6425"
      },
      "execution_count": null,
      "outputs": [
        {
          "output_type": "stream",
          "name": "stdout",
          "text": [
            "<re.Match object; span=(3, 7), match='1000'>\n"
          ]
        }
      ]
    },
    {
      "cell_type": "code",
      "source": [
        "# write a python program to find sequences of lowercase letters joined with an _\n",
        "l='python_programming'\n",
        "print(re.search(r'[a-z]+_[a-z]+',l))"
      ],
      "metadata": {
        "colab": {
          "base_uri": "https://localhost:8080/"
        },
        "id": "pCeXTvC2n4Ck",
        "outputId": "8d59cf84-da5d-464f-b05a-91dd8027af02"
      },
      "execution_count": null,
      "outputs": [
        {
          "output_type": "stream",
          "name": "stdout",
          "text": [
            "<re.Match object; span=(0, 18), match='python_programming'>\n"
          ]
        }
      ]
    },
    {
      "cell_type": "code",
      "source": [
        "a='this is an abstract'\n",
        "print(re.search(r'\\w{8}',a))"
      ],
      "metadata": {
        "colab": {
          "base_uri": "https://localhost:8080/"
        },
        "id": "RligrOlhqWEY",
        "outputId": "9e07d8a8-7bb7-4e2c-a32c-08a2338b9c13"
      },
      "execution_count": null,
      "outputs": [
        {
          "output_type": "stream",
          "name": "stdout",
          "text": [
            "<re.Match object; span=(11, 19), match='abstract'>\n"
          ]
        }
      ]
    },
    {
      "cell_type": "code",
      "source": [
        "#sentences ending with python\n",
        "b='i love python'\n",
        "print(re.search(r'python$',b))"
      ],
      "metadata": {
        "colab": {
          "base_uri": "https://localhost:8080/"
        },
        "id": "T-Pmia-ssSHV",
        "outputId": "c1f085f3-05bf-4224-8bab-d91b67014b39"
      },
      "execution_count": null,
      "outputs": [
        {
          "output_type": "stream",
          "name": "stdout",
          "text": [
            "<re.Match object; span=(7, 13), match='python'>\n"
          ]
        }
      ]
    }
  ]
}