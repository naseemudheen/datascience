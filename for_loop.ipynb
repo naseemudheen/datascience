{
  "nbformat": 4,
  "nbformat_minor": 0,
  "metadata": {
    "colab": {
      "provenance": [],
      "collapsed_sections": []
    },
    "kernelspec": {
      "name": "python3",
      "display_name": "Python 3"
    },
    "language_info": {
      "name": "python"
    }
  },
  "cells": [
    {
      "cell_type": "markdown",
      "source": [
        "# **\"for\" Loop**"
      ],
      "metadata": {
        "id": "ckHcKqSgT9h9"
      }
    },
    {
      "cell_type": "code",
      "source": [
        "for i in range(1,11):   #if we want to print 10 times, then put 11 in \"for\" loop. Default step value is 1. \n",
        "  print(\"Hello\")"
      ],
      "metadata": {
        "colab": {
          "base_uri": "https://localhost:8080/"
        },
        "id": "a4nwZONYUFzQ",
        "outputId": "18137834-8222-4369-cbff-6a1f17a952be"
      },
      "execution_count": null,
      "outputs": [
        {
          "output_type": "stream",
          "name": "stdout",
          "text": [
            "Hello\n",
            "Hello\n",
            "Hello\n",
            "Hello\n",
            "Hello\n",
            "Hello\n",
            "Hello\n",
            "Hello\n",
            "Hello\n"
          ]
        }
      ]
    },
    {
      "cell_type": "code",
      "source": [
        "for i in range(1,11,2):  #step size is 2. Then 1st, 3rd, 5th,7th and 9th Hello are printed.\n",
        "  print(\"Hello\")"
      ],
      "metadata": {
        "colab": {
          "base_uri": "https://localhost:8080/"
        },
        "id": "_P4sSuwFWTCM",
        "outputId": "7f17a554-e9e8-4af3-d7a1-e2866bc601d4"
      },
      "execution_count": null,
      "outputs": [
        {
          "output_type": "stream",
          "name": "stdout",
          "text": [
            "Hello\n",
            "Hello\n",
            "Hello\n",
            "Hello\n",
            "Hello\n"
          ]
        }
      ]
    },
    {
      "cell_type": "code",
      "source": [
        "a=\"Hello World\"\n",
        "for i in a:\n",
        "  print(i)"
      ],
      "metadata": {
        "colab": {
          "base_uri": "https://localhost:8080/"
        },
        "id": "RaoRph5gcB0h",
        "outputId": "71961dab-48a8-4d67-8016-35639c3af187"
      },
      "execution_count": null,
      "outputs": [
        {
          "output_type": "stream",
          "name": "stdout",
          "text": [
            "H\n",
            "e\n",
            "l\n",
            "l\n",
            "o\n",
            " \n",
            "W\n",
            "o\n",
            "r\n",
            "l\n",
            "d\n"
          ]
        }
      ]
    },
    {
      "cell_type": "markdown",
      "source": [
        "print 1 to 20 using for loop"
      ],
      "metadata": {
        "id": "FXzQSuyJD8Px"
      }
    },
    {
      "cell_type": "code",
      "source": [
        "for i in range(1,21):\n",
        "  print(i)"
      ],
      "metadata": {
        "colab": {
          "base_uri": "https://localhost:8080/"
        },
        "id": "jfZBtz3KEBr8",
        "outputId": "9d62aa67-9ea6-4236-cd46-31197a2c0b10"
      },
      "execution_count": null,
      "outputs": [
        {
          "output_type": "stream",
          "name": "stdout",
          "text": [
            "1\n",
            "2\n",
            "3\n",
            "4\n",
            "5\n",
            "6\n",
            "7\n",
            "8\n",
            "9\n",
            "10\n",
            "11\n",
            "12\n",
            "13\n",
            "14\n",
            "15\n",
            "16\n",
            "17\n",
            "18\n",
            "19\n",
            "20\n"
          ]
        }
      ]
    },
    {
      "cell_type": "markdown",
      "source": [
        "print the multiple of 3 between 3 and 30"
      ],
      "metadata": {
        "id": "Q1F4L0xzEUiw"
      }
    },
    {
      "cell_type": "code",
      "source": [
        "for i in range(3,31,3):\n",
        "  print(i)"
      ],
      "metadata": {
        "colab": {
          "base_uri": "https://localhost:8080/"
        },
        "id": "pgdKv0wNEU-k",
        "outputId": "07b7adfa-0a21-4b6e-ce50-da5a8ccd4060"
      },
      "execution_count": null,
      "outputs": [
        {
          "output_type": "stream",
          "name": "stdout",
          "text": [
            "3\n",
            "6\n",
            "9\n",
            "12\n",
            "15\n",
            "18\n",
            "21\n",
            "24\n",
            "27\n",
            "30\n"
          ]
        }
      ]
    },
    {
      "cell_type": "markdown",
      "source": [
        "print numbers with in a given limit"
      ],
      "metadata": {
        "id": "8sxCsxyGEvFV"
      }
    },
    {
      "cell_type": "code",
      "source": [
        "limit=int(input(\"Enter the limit\"))\n",
        "for i in range(1,limit+1):\n",
        "  print(i)"
      ],
      "metadata": {
        "colab": {
          "base_uri": "https://localhost:8080/"
        },
        "id": "RSvpv_HpE0Pd",
        "outputId": "78c23e5a-3852-43d8-acb1-904920a87827"
      },
      "execution_count": null,
      "outputs": [
        {
          "output_type": "stream",
          "name": "stdout",
          "text": [
            "Enter the limit6\n",
            "1\n",
            "2\n",
            "3\n",
            "4\n",
            "5\n",
            "6\n"
          ]
        }
      ]
    },
    {
      "cell_type": "markdown",
      "source": [
        "print the numbers between two limits"
      ],
      "metadata": {
        "id": "-fayZH-mFNTa"
      }
    },
    {
      "cell_type": "code",
      "source": [
        "lower=int(input(\"Enter the lower limit\"))\n",
        "upper=int(input(\"Enter the upper limit\"))\n",
        "for i in range(lower,upper+1):\n",
        "  print(i)"
      ],
      "metadata": {
        "id": "bU4x3L83FSoj",
        "colab": {
          "base_uri": "https://localhost:8080/"
        },
        "outputId": "54c724fb-69bf-411a-9de0-88ae47466de2"
      },
      "execution_count": null,
      "outputs": [
        {
          "output_type": "stream",
          "name": "stdout",
          "text": [
            "Enter the lower limit4\n",
            "Enter the upper limit7\n",
            "4\n",
            "5\n",
            "6\n",
            "7\n"
          ]
        }
      ]
    },
    {
      "cell_type": "markdown",
      "source": [
        "program for printing the table of a number"
      ],
      "metadata": {
        "id": "Jjlgyrx1cPjr"
      }
    },
    {
      "cell_type": "code",
      "source": [
        "num=int(input(\"Enter the number to print the table\"))\n",
        "for i in range(1,11):\n",
        "  print(num,\"*\",i,\"=\",num*i)"
      ],
      "metadata": {
        "colab": {
          "base_uri": "https://localhost:8080/"
        },
        "id": "0X5XeSFEcWt0",
        "outputId": "e66d7b87-a4b4-4a6f-f6ff-0b699af50ac0"
      },
      "execution_count": null,
      "outputs": [
        {
          "output_type": "stream",
          "name": "stdout",
          "text": [
            "Enter the number to print the table4\n",
            "4 * 1 = 4\n",
            "4 * 2 = 8\n",
            "4 * 3 = 12\n",
            "4 * 4 = 16\n",
            "4 * 5 = 20\n",
            "4 * 6 = 24\n",
            "4 * 7 = 28\n",
            "4 * 8 = 32\n",
            "4 * 9 = 36\n",
            "4 * 10 = 40\n"
          ]
        }
      ]
    },
    {
      "cell_type": "code",
      "source": [
        "num=int(input(\"Enter the number to print the table\"))\n",
        "for i in range(1,11,2):\n",
        "  print(num,\"*\",i,\"=\",num*i)"
      ],
      "metadata": {
        "colab": {
          "base_uri": "https://localhost:8080/"
        },
        "id": "XeQeNTHSnCQA",
        "outputId": "c9ae7de7-7f5c-4aa1-cc24-460c2ec14526"
      },
      "execution_count": null,
      "outputs": [
        {
          "output_type": "stream",
          "name": "stdout",
          "text": [
            "Enter the number to print the table5\n",
            "5 * 1 = 5\n",
            "5 * 3 = 15\n",
            "5 * 5 = 25\n",
            "5 * 7 = 35\n",
            "5 * 9 = 45\n"
          ]
        }
      ]
    },
    {
      "cell_type": "markdown",
      "source": [
        "Program to print the sum of series 1+2+3+...+n"
      ],
      "metadata": {
        "id": "TZXjpLHjnX4I"
      }
    },
    {
      "cell_type": "code",
      "source": [
        "limit=int(input(\"Enter the last number of series\"))\n",
        "sum=0\n",
        "for i in range(1,limit+1):\n",
        "  sum=sum+i\n",
        "print(\"Total sum=\",sum)"
      ],
      "metadata": {
        "colab": {
          "base_uri": "https://localhost:8080/"
        },
        "id": "5RQJciYKnhXv",
        "outputId": "7ca9ed79-6202-422e-dc10-025f1f68fb7d"
      },
      "execution_count": null,
      "outputs": [
        {
          "output_type": "stream",
          "name": "stdout",
          "text": [
            "Enter the last number of series5\n",
            "Total sum= 15\n"
          ]
        }
      ]
    },
    {
      "cell_type": "markdown",
      "source": [
        "Program to generate FIBONACCI series(0,1,1,2,3,5,8 etc.) \n",
        "0, 1, 0+1, 1+1, 1+2, 2+3"
      ],
      "metadata": {
        "id": "Ae5-4Vt-oZ3-"
      }
    },
    {
      "cell_type": "code",
      "source": [
        "num=int(input(\"Enter the limit of fibonacci series to be printed: \"))\n",
        "a=0\n",
        "b=1\n",
        "print(a)\n",
        "print(b)\n",
        "for k in range(3,num+1):\n",
        "  c=a+b\n",
        "  print(c)\n",
        "  a=b\n",
        "  b=c\n",
        " \n"
      ],
      "metadata": {
        "colab": {
          "base_uri": "https://localhost:8080/"
        },
        "id": "VyJnGiStofuZ",
        "outputId": "a55287f6-c5f2-47d3-f235-9288a74ac109"
      },
      "execution_count": null,
      "outputs": [
        {
          "output_type": "stream",
          "name": "stdout",
          "text": [
            "Enter the limit of fibonacci series to be printed: 5\n",
            "0\n",
            "1\n",
            "1\n",
            "2\n",
            "3\n"
          ]
        }
      ]
    },
    {
      "cell_type": "markdown",
      "source": [
        "Print the Factorial of a number"
      ],
      "metadata": {
        "id": "5H4-C_A5rTRk"
      }
    },
    {
      "cell_type": "code",
      "source": [
        "num=int(input(\"Enter the limit of fibonacci series to be printed: \"))\n",
        "fact=1\n",
        "for i in range(1,num+1):\n",
        "  fact=fact*i\n",
        "print(\"Factorial of\",num,\"=\",fact)  #print function outside the loop"
      ],
      "metadata": {
        "colab": {
          "base_uri": "https://localhost:8080/"
        },
        "id": "IW2gSu4erZHf",
        "outputId": "2d260048-a672-4cc4-f8fe-29d2236bb029"
      },
      "execution_count": null,
      "outputs": [
        {
          "output_type": "stream",
          "name": "stdout",
          "text": [
            "Enter the limit of fibonacci series to be printed: 3\n",
            "Factorial of 3 = 6\n"
          ]
        }
      ]
    },
    {
      "cell_type": "code",
      "source": [
        "num=int(input(\"Enter the limit of fibonacci series to be printed: \"))\n",
        "fact=1\n",
        "for i in range(1,num+1):\n",
        "  fact=fact*i\n",
        "  print(\"Factorial =\",fact) #print function inside loop"
      ],
      "metadata": {
        "colab": {
          "base_uri": "https://localhost:8080/"
        },
        "id": "yCm8idmQsFGg",
        "outputId": "647236b3-1361-4d77-9759-343f567ebe67"
      },
      "execution_count": null,
      "outputs": [
        {
          "output_type": "stream",
          "name": "stdout",
          "text": [
            "Enter the limit of fibonacci series to be printed: 3\n",
            "Factorial = 1\n",
            "Factorial = 2\n",
            "Factorial = 6\n"
          ]
        }
      ]
    }
  ]
}