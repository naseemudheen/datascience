{
  "nbformat": 4,
  "nbformat_minor": 0,
  "metadata": {
    "colab": {
      "provenance": []
    },
    "kernelspec": {
      "name": "python3",
      "display_name": "Python 3"
    },
    "language_info": {
      "name": "python"
    }
  },
  "cells": [
    {
      "cell_type": "markdown",
      "source": [
        "sum of even and odd numbers within a limit"
      ],
      "metadata": {
        "id": "GHGB7EdkBuwR"
      }
    },
    {
      "cell_type": "code",
      "execution_count": null,
      "metadata": {
        "colab": {
          "base_uri": "https://localhost:8080/"
        },
        "id": "6fwV77lHu-pU",
        "outputId": "d95d4511-4387-427f-845f-c78347be3238"
      },
      "outputs": [
        {
          "output_type": "stream",
          "name": "stdout",
          "text": [
            "Enter the lower limit3\n",
            "Enter the upper limit6\n",
            "sum of even numbers: 10\n",
            "sum of odd numbers: 8\n"
          ]
        }
      ],
      "source": [
        "lower=int(input(\"Enter the lower limit\"))\n",
        "upper=int(input(\"Enter the upper limit\"))\n",
        "sum_even=0\n",
        "sum_odd=0\n",
        "for i in range(lower,upper+1):\n",
        "  if(i%2==0):\n",
        "    sum_even=sum_even+i\n",
        "  else:\n",
        "    sum_odd=sum_odd+i\n",
        "  \n",
        "print(\"sum of even numbers:\",sum_even)\n",
        "print(\"sum of odd numbers:\",sum_odd)\n"
      ]
    },
    {
      "cell_type": "markdown",
      "source": [
        "Python program to display all the prime numbers within an interval"
      ],
      "metadata": {
        "id": "PvSG6H9w_O3a"
      }
    },
    {
      "cell_type": "code",
      "source": [
        "\n",
        "\n",
        "lower=int(input(\"Enter the lower limit\"))\n",
        "upper=int(input(\"Enter the upper limit\"))\n",
        "\n",
        "for num in range(lower, upper + 1):\n",
        "# all prime numbers are greater than 1\n",
        "   if num > 1:\n",
        "       for i in range(2, num):\n",
        "           if (num % i) == 0:\n",
        "               break\n",
        "       else:\n",
        "           print(num)"
      ],
      "metadata": {
        "colab": {
          "base_uri": "https://localhost:8080/"
        },
        "id": "7T4zfhqP-FLQ",
        "outputId": "b8e90ca0-a402-46cc-9100-256a646e00cf"
      },
      "execution_count": null,
      "outputs": [
        {
          "output_type": "stream",
          "name": "stdout",
          "text": [
            "Enter the lower limit2\n",
            "Enter the upper limit6\n",
            "2\n",
            "3\n",
            "5\n"
          ]
        }
      ]
    },
    {
      "cell_type": "markdown",
      "source": [
        "to check whether prime number or not"
      ],
      "metadata": {
        "id": "ULv1vqT6Dp1V"
      }
    },
    {
      "cell_type": "code",
      "source": [
        "num=int(input(\"Enter the number\"))\n",
        "flag=False\n",
        "if num > 1:\n",
        "  for i in range(2, num):\n",
        "      if (num % i) == 0:\n",
        "        flag=True\n",
        "        \n",
        "if(flag==True):\n",
        "  print(\"not a prime number\")\n",
        "else:\n",
        "  print(\"prime number\")"
      ],
      "metadata": {
        "colab": {
          "base_uri": "https://localhost:8080/"
        },
        "id": "CJ4OZNWD_87h",
        "outputId": "dd4db899-61bc-43cd-801e-fb7e2ed62ee1"
      },
      "execution_count": null,
      "outputs": [
        {
          "output_type": "stream",
          "name": "stdout",
          "text": [
            "Enter the number5\n",
            "prime number\n"
          ]
        }
      ]
    },
    {
      "cell_type": "markdown",
      "source": [],
      "metadata": {
        "id": "ib11-fZLBtEJ"
      }
    }
  ]
}