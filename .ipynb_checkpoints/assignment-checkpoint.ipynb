{
 "cells": [
  {
   "cell_type": "code",
   "execution_count": 1,
   "metadata": {
    "id": "c9huki3Llp6G"
   },
   "outputs": [],
   "source": [
    "import os\n",
    "import joblib\n",
    "import numpy as np\n",
    "import pandas as pd\n",
    "from sklearn.tree import _tree\n",
    "from sklearn.metrics import roc_auc_score\n",
    "from sklearn.metrics import confusion_matrix\n",
    "from sklearn.preprocessing import LabelEncoder\n",
    "from sklearn.model_selection import train_test_split\n"
   ]
  },
  {
   "cell_type": "code",
   "execution_count": 2,
   "metadata": {
    "id": "dhTYVYJFlp1j"
   },
   "outputs": [
    {
     "name": "stdout",
     "output_type": "stream",
     "text": [
      "(25200, 8)\n"
     ]
    },
    {
     "data": {
      "text/html": [
       "<div>\n",
       "<style scoped>\n",
       "    .dataframe tbody tr th:only-of-type {\n",
       "        vertical-align: middle;\n",
       "    }\n",
       "\n",
       "    .dataframe tbody tr th {\n",
       "        vertical-align: top;\n",
       "    }\n",
       "\n",
       "    .dataframe thead th {\n",
       "        text-align: right;\n",
       "    }\n",
       "</style>\n",
       "<table border=\"1\" class=\"dataframe\">\n",
       "  <thead>\n",
       "    <tr style=\"text-align: right;\">\n",
       "      <th></th>\n",
       "      <th>step</th>\n",
       "      <th>customer</th>\n",
       "      <th>age</th>\n",
       "      <th>gender</th>\n",
       "      <th>merchant</th>\n",
       "      <th>category</th>\n",
       "      <th>amount</th>\n",
       "      <th>fraud</th>\n",
       "    </tr>\n",
       "  </thead>\n",
       "  <tbody>\n",
       "    <tr>\n",
       "      <th>0</th>\n",
       "      <td>2021-07-16</td>\n",
       "      <td>C1326593353</td>\n",
       "      <td>36to45</td>\n",
       "      <td>Male</td>\n",
       "      <td>M1823072687</td>\n",
       "      <td>Transportation</td>\n",
       "      <td>15.78</td>\n",
       "      <td>0</td>\n",
       "    </tr>\n",
       "    <tr>\n",
       "      <th>1</th>\n",
       "      <td>2021-08-22</td>\n",
       "      <td>C483912131</td>\n",
       "      <td>26to35</td>\n",
       "      <td>Female</td>\n",
       "      <td>M1198415165</td>\n",
       "      <td>Beauty&amp;Wellness</td>\n",
       "      <td>608.32</td>\n",
       "      <td>1</td>\n",
       "    </tr>\n",
       "    <tr>\n",
       "      <th>2</th>\n",
       "      <td>2021-06-03</td>\n",
       "      <td>C1681589600</td>\n",
       "      <td>26to35</td>\n",
       "      <td>Female</td>\n",
       "      <td>M348934600</td>\n",
       "      <td>Transportation</td>\n",
       "      <td>43.76</td>\n",
       "      <td>0</td>\n",
       "    </tr>\n",
       "    <tr>\n",
       "      <th>3</th>\n",
       "      <td>2021-07-01</td>\n",
       "      <td>C1251749294</td>\n",
       "      <td>36to45</td>\n",
       "      <td>Female</td>\n",
       "      <td>M1823072687</td>\n",
       "      <td>Transportation</td>\n",
       "      <td>41.57</td>\n",
       "      <td>0</td>\n",
       "    </tr>\n",
       "    <tr>\n",
       "      <th>4</th>\n",
       "      <td>2021-03-06</td>\n",
       "      <td>C1705346216</td>\n",
       "      <td>36to45</td>\n",
       "      <td>Male</td>\n",
       "      <td>M348934600</td>\n",
       "      <td>Transportation</td>\n",
       "      <td>42.97</td>\n",
       "      <td>0</td>\n",
       "    </tr>\n",
       "  </tbody>\n",
       "</table>\n",
       "</div>"
      ],
      "text/plain": [
       "         step     customer     age  gender     merchant         category  \\\n",
       "0  2021-07-16  C1326593353  36to45    Male  M1823072687   Transportation   \n",
       "1  2021-08-22   C483912131  26to35  Female  M1198415165  Beauty&Wellness   \n",
       "2  2021-06-03  C1681589600  26to35  Female   M348934600   Transportation   \n",
       "3  2021-07-01  C1251749294  36to45  Female  M1823072687   Transportation   \n",
       "4  2021-03-06  C1705346216  36to45    Male   M348934600   Transportation   \n",
       "\n",
       "   amount  fraud  \n",
       "0   15.78      0  \n",
       "1  608.32      1  \n",
       "2   43.76      0  \n",
       "3   41.57      0  \n",
       "4   42.97      0  "
      ]
     },
     "execution_count": 2,
     "metadata": {},
     "output_type": "execute_result"
    }
   ],
   "source": [
    "# Load data\n",
    "dataset_name = 'sampled_data2.csv'\n",
    "df = pd.read_csv(dataset_name)\n",
    "print(df.shape)\n",
    "df.head()"
   ]
  },
  {
   "cell_type": "code",
   "execution_count": 3,
   "metadata": {
    "id": "6nP32BT8lanF"
   },
   "outputs": [],
   "source": [
    "entity_column = 'customer'\n",
    "target_column= 'fraud'\n",
    "datetime_columns = 'step'"
   ]
  },
  {
   "cell_type": "code",
   "execution_count": 4,
   "metadata": {
    "id": "wLnTxJ61llL1"
   },
   "outputs": [
    {
     "name": "stdout",
     "output_type": "stream",
     "text": [
      "['amount', 'fraud']\n"
     ]
    }
   ],
   "source": [
    "if entity_column == '':\n",
    "    df['entity_column']= df.index.tolist()\n",
    "    entity_column = 'entity_column' \n",
    "    \n",
    "if datetime_columns == '':\n",
    "    df['datetime_columns']= df.index.tolist()    \n",
    "    datetime_columns = 'datetime_columns'\n",
    "\n",
    "numerical_columns = df._get_numeric_data().columns.values.tolist()\n",
    "print(numerical_columns)\n",
    "    "
   ]
  },
  {
   "cell_type": "code",
   "execution_count": 5,
   "metadata": {
    "id": "OwYPBvcCllOK"
   },
   "outputs": [
    {
     "data": {
      "application/javascript": [
       "\n",
       "        if (window._pyforest_update_imports_cell) { window._pyforest_update_imports_cell('from sklearn.ensemble import RandomForestClassifier'); }\n",
       "    "
      ],
      "text/plain": [
       "<IPython.core.display.Javascript object>"
      ]
     },
     "metadata": {},
     "output_type": "display_data"
    },
    {
     "name": "stdout",
     "output_type": "stream",
     "text": [
      "0.9960853703703704\n",
      "[[13193   307]\n",
      " [  243  5157]]\n"
     ]
    },
    {
     "data": {
      "text/plain": [
       "<AxesSubplot:>"
      ]
     },
     "execution_count": 5,
     "metadata": {},
     "output_type": "execute_result"
    },
    {
     "data": {
      "image/png": "[encoded data removed]",
      "text/plain": [
       "<Figure size 432x288 with 2 Axes>"
      ]
     },
     "metadata": {
      "needs_background": "light"
     },
     "output_type": "display_data"
    }
   ],
   "source": [
    "X = df.drop(columns=[entity_column,target_column,datetime_columns])\n",
    "y = df[target_column]\n",
    "\n",
    "# Label Encoding of Categorical Columns\n",
    "categorical_names = {}\n",
    "for feature in X.columns:\n",
    "    X[feature] =  X[feature].fillna('') \n",
    "    le =  LabelEncoder()\n",
    "    le.fit(X[feature])\n",
    "    X[feature] = le.transform(X[feature])\n",
    "    categorical_names[feature] = le.classes_\n",
    "    \n",
    "\n",
    "X_train, X_test, y_train, y_test = train_test_split(X, y, test_size=0.75, random_state=42,stratify=y)\n",
    "\n",
    "rf = RandomForestClassifier(criterion='entropy', class_weight='balanced', random_state=42)\n",
    "rf.fit(X_train, y_train)\n",
    "\n",
    "predictions = rf.predict_proba(X_test)\n",
    "predictions_class = rf.predict(X_test)\n",
    "\n",
    "\n",
    "if df[target_column].nunique()> 2:\n",
    "    rules_score = roc_auc_score(y_test, predictions[:,1], multi_class = 'ovo')\n",
    "else:\n",
    "    rules_score = roc_auc_score(y_test, predictions[:,1])\n",
    "\n",
    "print(rules_score)\n",
    "\n",
    "from sklearn.metrics import confusion_matrix\n",
    "cf_matrix = confusion_matrix(y_test, predictions_class)\n",
    "print(cf_matrix)\n",
    "\n",
    "import seaborn as sns\n",
    "sns.heatmap(cf_matrix, annot=True)"
   ]
  },
  {
   "cell_type": "code",
   "execution_count": null,
   "metadata": {
    "id": "7GQqShosllQV"
   },
   "outputs": [],
   "source": [
    "'''\n",
    "ROC_AUC = 0.9960853703703704\n",
    "\n",
    "Confusion Matrix = \n",
    "[[13193   307]\n",
    " [  243  5157]]\n",
    "'''"
   ]
  },
  {
   "cell_type": "code",
   "execution_count": null,
   "metadata": {
    "id": "2zh1pMSNllSO"
   },
   "outputs": [],
   "source": []
  },
  {
   "cell_type": "code",
   "execution_count": null,
   "metadata": {
    "id": "0aeq8zW8llUQ"
   },
   "outputs": [],
   "source": []
  },
  {
   "cell_type": "code",
   "execution_count": null,
   "metadata": {
    "id": "UYXEuCu2llWX"
   },
   "outputs": [],
   "source": []
  },
  {
   "cell_type": "code",
   "execution_count": null,
   "metadata": {
    "id": "ebglAFJ2llYg"
   },
   "outputs": [],
   "source": []
  },
  {
   "cell_type": "code",
   "execution_count": null,
   "metadata": {
    "id": "GGOucKTjllal"
   },
   "outputs": [],
   "source": []
  },
  {
   "cell_type": "code",
   "execution_count": null,
   "metadata": {
    "id": "E5PRTlNQllcV"
   },
   "outputs": [],
   "source": []
  }
 ],
 "metadata": {
  "colab": {
   "name": "Task1.ipynb",
   "provenance": []
  },
  "kernelspec": {
   "display_name": "Python 3",
   "language": "python",
   "name": "python3"
  },
  "language_info": {
   "codemirror_mode": {
    "name": "ipython",
    "version": 3
   },
   "file_extension": ".py",
   "mimetype": "text/x-python",
   "name": "python",
   "nbconvert_exporter": "python",
   "pygments_lexer": "ipython3",
   "version": "3.8.5"
  }
 },
 "nbformat": 4,
 "nbformat_minor": 1
}
