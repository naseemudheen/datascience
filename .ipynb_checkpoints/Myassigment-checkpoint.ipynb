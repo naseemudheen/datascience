{
 "cells": [
  {
   "cell_type": "code",
   "execution_count": 17,
   "metadata": {},
   "outputs": [],
   "source": [
    "import numpy as np\n",
    "import pandas as pd\n",
    "import matplotlib.pyplot as plt\n",
    "%matplotlib inline\n",
    "from sklearn.preprocessing import LabelEncoder\n",
    "import seaborn as sns\n",
    "from sklearn.model_selection import train_test_split\n",
    "from sklearn.tree import _tree\n",
    "from sklearn.metrics import roc_auc_score\n",
    "from sklearn.metrics import confusion_matrix"
   ]
  },
  {
   "cell_type": "code",
   "execution_count": 18,
   "metadata": {},
   "outputs": [
    {
     "data": {
      "text/html": [
       "<div>\n",
       "<style scoped>\n",
       "    .dataframe tbody tr th:only-of-type {\n",
       "        vertical-align: middle;\n",
       "    }\n",
       "\n",
       "    .dataframe tbody tr th {\n",
       "        vertical-align: top;\n",
       "    }\n",
       "\n",
       "    .dataframe thead th {\n",
       "        text-align: right;\n",
       "    }\n",
       "</style>\n",
       "<table border=\"1\" class=\"dataframe\">\n",
       "  <thead>\n",
       "    <tr style=\"text-align: right;\">\n",
       "      <th></th>\n",
       "      <th>step</th>\n",
       "      <th>customer</th>\n",
       "      <th>age</th>\n",
       "      <th>gender</th>\n",
       "      <th>merchant</th>\n",
       "      <th>category</th>\n",
       "      <th>amount</th>\n",
       "      <th>fraud</th>\n",
       "    </tr>\n",
       "  </thead>\n",
       "  <tbody>\n",
       "    <tr>\n",
       "      <th>0</th>\n",
       "      <td>2021-07-16</td>\n",
       "      <td>C1326593353</td>\n",
       "      <td>36to45</td>\n",
       "      <td>Male</td>\n",
       "      <td>M1823072687</td>\n",
       "      <td>Transportation</td>\n",
       "      <td>15.78</td>\n",
       "      <td>0</td>\n",
       "    </tr>\n",
       "    <tr>\n",
       "      <th>1</th>\n",
       "      <td>2021-08-22</td>\n",
       "      <td>C483912131</td>\n",
       "      <td>26to35</td>\n",
       "      <td>Female</td>\n",
       "      <td>M1198415165</td>\n",
       "      <td>Beauty&amp;Wellness</td>\n",
       "      <td>608.32</td>\n",
       "      <td>1</td>\n",
       "    </tr>\n",
       "    <tr>\n",
       "      <th>2</th>\n",
       "      <td>2021-06-03</td>\n",
       "      <td>C1681589600</td>\n",
       "      <td>26to35</td>\n",
       "      <td>Female</td>\n",
       "      <td>M348934600</td>\n",
       "      <td>Transportation</td>\n",
       "      <td>43.76</td>\n",
       "      <td>0</td>\n",
       "    </tr>\n",
       "    <tr>\n",
       "      <th>3</th>\n",
       "      <td>2021-07-01</td>\n",
       "      <td>C1251749294</td>\n",
       "      <td>36to45</td>\n",
       "      <td>Female</td>\n",
       "      <td>M1823072687</td>\n",
       "      <td>Transportation</td>\n",
       "      <td>41.57</td>\n",
       "      <td>0</td>\n",
       "    </tr>\n",
       "    <tr>\n",
       "      <th>4</th>\n",
       "      <td>2021-03-06</td>\n",
       "      <td>C1705346216</td>\n",
       "      <td>36to45</td>\n",
       "      <td>Male</td>\n",
       "      <td>M348934600</td>\n",
       "      <td>Transportation</td>\n",
       "      <td>42.97</td>\n",
       "      <td>0</td>\n",
       "    </tr>\n",
       "  </tbody>\n",
       "</table>\n",
       "</div>"
      ],
      "text/plain": [
       "         step     customer     age  gender     merchant         category  \\\n",
       "0  2021-07-16  C1326593353  36to45    Male  M1823072687   Transportation   \n",
       "1  2021-08-22   C483912131  26to35  Female  M1198415165  Beauty&Wellness   \n",
       "2  2021-06-03  C1681589600  26to35  Female   M348934600   Transportation   \n",
       "3  2021-07-01  C1251749294  36to45  Female  M1823072687   Transportation   \n",
       "4  2021-03-06  C1705346216  36to45    Male   M348934600   Transportation   \n",
       "\n",
       "   amount  fraud  \n",
       "0   15.78      0  \n",
       "1  608.32      1  \n",
       "2   43.76      0  \n",
       "3   41.57      0  \n",
       "4   42.97      0  "
      ]
     },
     "execution_count": 18,
     "metadata": {},
     "output_type": "execute_result"
    }
   ],
   "source": [
    "#read csv file\n",
    "df= pd.read_csv('sampled_data2.csv')\n",
    "df.head()"
   ]
  },
  {
   "cell_type": "code",
   "execution_count": 19,
   "metadata": {},
   "outputs": [
    {
     "name": "stdout",
     "output_type": "stream",
     "text": [
      "<class 'pandas.core.frame.DataFrame'>\n",
      "RangeIndex: 25200 entries, 0 to 25199\n",
      "Data columns (total 8 columns):\n",
      " #   Column    Non-Null Count  Dtype  \n",
      "---  ------    --------------  -----  \n",
      " 0   step      25200 non-null  object \n",
      " 1   customer  25200 non-null  object \n",
      " 2   age       25200 non-null  object \n",
      " 3   gender    25200 non-null  object \n",
      " 4   merchant  25200 non-null  object \n",
      " 5   category  25200 non-null  object \n",
      " 6   amount    25200 non-null  float64\n",
      " 7   fraud     25200 non-null  int64  \n",
      "dtypes: float64(1), int64(1), object(6)\n",
      "memory usage: 1.5+ MB\n"
     ]
    }
   ],
   "source": [
    "#info the dataframe\n",
    "df.info()"
   ]
  },
  {
   "cell_type": "code",
   "execution_count": 20,
   "metadata": {},
   "outputs": [
    {
     "data": {
      "text/plain": [
       "step        False\n",
       "customer    False\n",
       "age         False\n",
       "gender      False\n",
       "merchant    False\n",
       "category    False\n",
       "amount      False\n",
       "fraud       False\n",
       "dtype: bool"
      ]
     },
     "execution_count": 20,
     "metadata": {},
     "output_type": "execute_result"
    }
   ],
   "source": [
    "#check is there any null values\n",
    "df.isnull().any()"
   ]
  },
  {
   "cell_type": "code",
   "execution_count": null,
   "metadata": {},
   "outputs": [],
   "source": []
  },
  {
   "cell_type": "code",
   "execution_count": 21,
   "metadata": {},
   "outputs": [
    {
     "data": {
      "text/plain": [
       "array(['Transportation', 'Beauty&Wellness', 'Sports&Toys', 'Health',\n",
       "       'Leisure', 'Groceries', 'HotelServices', 'Fashion', 'Travel',\n",
       "       'OtherServices', 'Technology', 'Restaurants&Bars', 'Home',\n",
       "       'Contents'], dtype=object)"
      ]
     },
     "execution_count": 21,
     "metadata": {},
     "output_type": "execute_result"
    }
   ],
   "source": [
    "df.category.unique()"
   ]
  },
  {
   "cell_type": "code",
   "execution_count": 22,
   "metadata": {},
   "outputs": [],
   "source": [
    "#seperating data from target_column and irrelevent data\n",
    "X = df.drop(columns=['customer','fraud','step'])\n",
    "y = df['fraud']\n",
    "#encoding categorical data into labels\n",
    "categorical_names = {}\n",
    "for feature in X.columns:\n",
    "    X[feature] =  X[feature].fillna('') \n",
    "    le =  LabelEncoder()\n",
    "    le.fit(X[feature])\n",
    "    X[feature] = le.transform(X[feature])\n",
    "    categorical_names[feature] = le.classes_"
   ]
  },
  {
   "cell_type": "code",
   "execution_count": 23,
   "metadata": {},
   "outputs": [
    {
     "data": {
      "application/javascript": [
       "\n",
       "        if (window._pyforest_update_imports_cell) { window._pyforest_update_imports_cell('from sklearn.ensemble import RandomForestClassifier\\nimport pandas as pd'); }\n",
       "    "
      ],
      "text/plain": [
       "<IPython.core.display.Javascript object>"
      ]
     },
     "metadata": {},
     "output_type": "display_data"
    },
    {
     "name": "stdout",
     "output_type": "stream",
     "text": [
      "0.9964113580246915\n",
      "[[4402   98]\n",
      " [  71 1729]]\n"
     ]
    },
    {
     "data": {
      "text/plain": [
       "<AxesSubplot:>"
      ]
     },
     "execution_count": 23,
     "metadata": {},
     "output_type": "execute_result"
    },
    {
     "data": {
      "image/png": "[encoded data removed]",
      "text/plain": [
       "<Figure size 432x288 with 2 Axes>"
      ]
     },
     "metadata": {
      "needs_background": "light"
     },
     "output_type": "display_data"
    }
   ],
   "source": [
    "#splitting the dataset\n",
    "X_train, X_test, y_train, y_test = train_test_split(X,y ,test_size=0.25,stratify=y,random_state=42)\n",
    "\n",
    "#fitting to the algorithm\n",
    "rf = RandomForestClassifier(criterion='entropy', n_estimators=400, class_weight='balanced', random_state=42)\n",
    "rf.fit(X_train, y_train)\n",
    "\n",
    "predictions = rf.predict_proba(X_test)\n",
    "predictions_class = rf.predict(X_test)\n",
    "\n",
    "\n",
    "\n",
    "if df['fraud'].nunique()> 2:\n",
    "    rules_score = roc_auc_score(y_test, predictions[:,1], multi_class = 'ovo')\n",
    "else:\n",
    "    rules_score = roc_auc_score(y_test, predictions[:,1])\n",
    "\n",
    "print(rules_score)\n",
    "\n",
    "from sklearn.metrics import confusion_matrix\n",
    "cf_matrix = confusion_matrix(y_test, predictions_class)\n",
    "print(cf_matrix)\n",
    "\n",
    "import seaborn as sns\n",
    "sns.heatmap(cf_matrix, annot=True)"
   ]
  },
  {
   "cell_type": "code",
   "execution_count": null,
   "metadata": {},
   "outputs": [],
   "source": []
  },
  {
   "cell_type": "code",
   "execution_count": null,
   "metadata": {},
   "outputs": [],
   "source": []
  },
  {
   "cell_type": "code",
   "execution_count": null,
   "metadata": {},
   "outputs": [],
   "source": []
  },
  {
   "cell_type": "code",
   "execution_count": null,
   "metadata": {},
   "outputs": [],
   "source": []
  }
 ],
 "metadata": {
  "kernelspec": {
   "display_name": "Python 3",
   "language": "python",
   "name": "python3"
  },
  "language_info": {
   "codemirror_mode": {
    "name": "ipython",
    "version": 3
   },
   "file_extension": ".py",
   "mimetype": "text/x-python",
   "name": "python",
   "nbconvert_exporter": "python",
   "pygments_lexer": "ipython3",
   "version": "3.8.5"
  }
 },
 "nbformat": 4,
 "nbformat_minor": 4
}
