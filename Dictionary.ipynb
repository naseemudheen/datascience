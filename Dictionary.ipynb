{
  "nbformat": 4,
  "nbformat_minor": 0,
  "metadata": {
    "colab": {
      "provenance": [],
      "collapsed_sections": []
    },
    "kernelspec": {
      "name": "python3",
      "display_name": "Python 3"
    },
    "language_info": {
      "name": "python"
    }
  },
  "cells": [
    {
      "cell_type": "markdown",
      "source": [
        "# **DICTIONARY**"
      ],
      "metadata": {
        "id": "o2kr0QAZseAb"
      }
    },
    {
      "cell_type": "markdown",
      "source": [
        "A unique data structure which is not available in other programming languages but available in Python is called a Dictionary. It is considered as the king of data structures in Python because it is the only standard mapping type. A dictionary has a group of elements which are arranged in the form of **key-value** pairs. Thus, there are three special objects for dictionary: **keys, values and items**."
      ],
      "metadata": {
        "id": "ASO6H0HGjeoO"
      }
    },
    {
      "cell_type": "code",
      "source": [
        "# how to define\n",
        "dic={}\n",
        "print(type(dic))\n",
        "\n",
        "dic1=dict()\n",
        "print(type(dic1))"
      ],
      "metadata": {
        "colab": {
          "base_uri": "https://localhost:8080/"
        },
        "id": "y_s2j4W_mbgK",
        "outputId": "05deda08-a827-4f6e-e050-73ab8d2a19f0"
      },
      "execution_count": null,
      "outputs": [
        {
          "output_type": "stream",
          "name": "stdout",
          "text": [
            "<class 'dict'>\n",
            "<class 'dict'>\n"
          ]
        }
      ]
    },
    {
      "cell_type": "code",
      "source": [
        "# key:value\n",
        "# name:'sara'\n",
        "# age:21\n",
        "student={'roll_no':1,'name':'Afinu','age':21}\n",
        "print(student)\n",
        "\n",
        "# support heterogeneous data"
      ],
      "metadata": {
        "colab": {
          "base_uri": "https://localhost:8080/"
        },
        "id": "_ppD_uCenuAU",
        "outputId": "b868b943-2be1-4dae-a1dc-b629619702a6"
      },
      "execution_count": null,
      "outputs": [
        {
          "output_type": "stream",
          "name": "stdout",
          "text": [
            "{'roll_no': 1, 'name': 'Afinu', 'age': 21}\n"
          ]
        }
      ]
    },
    {
      "cell_type": "code",
      "source": [
        "# allow duplicates or not\n",
        "stud={'roll_no':1,'f_name':'Afinu','age':21,'age':22,'l_name':'Afinu'}\n",
        "print(stud)\n",
        "\n",
        "# duplicate keys are not allowed\n",
        "# duplicate values are allowed"
      ],
      "metadata": {
        "colab": {
          "base_uri": "https://localhost:8080/"
        },
        "id": "4dYrLDFjoxC3",
        "outputId": "bee325e9-7c8f-4a5c-beb9-c58c7b8dd1f3"
      },
      "execution_count": null,
      "outputs": [
        {
          "output_type": "stream",
          "name": "stdout",
          "text": [
            "{'roll_no': 1, 'f_name': 'Afinu', 'age': 22, 'l_name': 'Afinu'}\n"
          ]
        }
      ]
    },
    {
      "cell_type": "code",
      "source": [
        "# insertion order is preserved"
      ],
      "metadata": {
        "id": "UNL7sv9ip1z7"
      },
      "execution_count": null,
      "outputs": []
    },
    {
      "cell_type": "code",
      "source": [
        "# mutable\n",
        "s={'roll_no':1,'name':'Afinu','age':21,'subject':'Python basics','mark':50}\n",
        "print(s)\n",
        "print(\"Name :\",s['name'])  # To print a particular value corresponding key can be used\n",
        "print(\"Subject :\",s['subject'])\n"
      ],
      "metadata": {
        "colab": {
          "base_uri": "https://localhost:8080/"
        },
        "id": "BJMz3zgtp6zB",
        "outputId": "6f70c9e0-bae4-4b80-fdc9-663adb9ee3cc"
      },
      "execution_count": null,
      "outputs": [
        {
          "output_type": "stream",
          "name": "stdout",
          "text": [
            "{'roll_no': 1, 'name': 'Afinu', 'age': 21, 'subject': 'Python basics', 'mark': 50}\n",
            "Name : Afinu\n",
            "Subject : Python basics\n"
          ]
        }
      ]
    },
    {
      "cell_type": "code",
      "source": [
        "# update the value of age from 21 to 25\n",
        "s['age']=25\n",
        "print(s)"
      ],
      "metadata": {
        "colab": {
          "base_uri": "https://localhost:8080/"
        },
        "id": "f5KtaEekrZYv",
        "outputId": "b4acda04-ad1d-4539-8c71-4d9e1133d2d6"
      },
      "execution_count": null,
      "outputs": [
        {
          "output_type": "stream",
          "name": "stdout",
          "text": [
            "{'roll_no': 1, 'name': 'Afinu', 'age': 25, 'subject': 'Python basics', 'mark': 50}\n"
          ]
        }
      ]
    },
    {
      "cell_type": "markdown",
      "source": [
        "Accessing dictionary elements using for loop"
      ],
      "metadata": {
        "id": "yf8yPQx7tLDh"
      }
    },
    {
      "cell_type": "code",
      "source": [
        "# print the keys and values in a dictionary\n",
        "st={'roll_no':1,'name':'Afinu','age':21,'subject':'Python basics','mark':50}\n",
        "\n",
        "for i in st:\n",
        "  print(i) # print the keys of dictionary\n",
        "  "
      ],
      "metadata": {
        "colab": {
          "base_uri": "https://localhost:8080/"
        },
        "id": "BVhxmevXrsdW",
        "outputId": "dffe772a-2c47-4400-e676-01de58b4b1ed"
      },
      "execution_count": null,
      "outputs": [
        {
          "output_type": "stream",
          "name": "stdout",
          "text": [
            "roll_no\n",
            "name\n",
            "age\n",
            "subject\n",
            "mark\n"
          ]
        }
      ]
    },
    {
      "cell_type": "code",
      "source": [
        "st={'roll_no':1,'name':'Afinu','age':21,'subject':'Python basics','mark':50}\n",
        "\n",
        "for i in st:\n",
        "  print(st[i]) # print the values of dictionary"
      ],
      "metadata": {
        "colab": {
          "base_uri": "https://localhost:8080/"
        },
        "id": "jhXjiVYlsE60",
        "outputId": "06903d5a-f2b7-4e5b-c259-688bdc194148"
      },
      "execution_count": null,
      "outputs": [
        {
          "output_type": "stream",
          "name": "stdout",
          "text": [
            "1\n",
            "Afinu\n",
            "21\n",
            "Python basics\n",
            "50\n"
          ]
        }
      ]
    },
    {
      "cell_type": "code",
      "source": [
        "st={'roll_no':1,'name':'Afinu','age':21,'subject':'Python basics','mark':50}\n",
        "\n",
        "for i in st:\n",
        "  print(i,\":\",st[i]) # print the keys and values of dictionary"
      ],
      "metadata": {
        "colab": {
          "base_uri": "https://localhost:8080/"
        },
        "id": "HCWA2MrasOSz",
        "outputId": "c5a7b353-e11b-44a4-8c93-a0445e8b0194"
      },
      "execution_count": null,
      "outputs": [
        {
          "output_type": "stream",
          "name": "stdout",
          "text": [
            "roll_no : 1\n",
            "name : Afinu\n",
            "age : 21\n",
            "subject : Python basics\n",
            "mark : 50\n"
          ]
        }
      ]
    },
    {
      "cell_type": "markdown",
      "source": [
        "Accessing dictionary elements using functions"
      ],
      "metadata": {
        "id": "2ZoIdvu4tRIM"
      }
    },
    {
      "cell_type": "code",
      "source": [
        "book={'name':'Python','author':'Bharati','publisher':'Wiley'}\n",
        "print(\"Keys in this dictionary are :\",book.keys())"
      ],
      "metadata": {
        "colab": {
          "base_uri": "https://localhost:8080/"
        },
        "id": "QiLTqd7ZtWsS",
        "outputId": "d4274191-c248-412a-c767-285bacdb9f00"
      },
      "execution_count": null,
      "outputs": [
        {
          "output_type": "stream",
          "name": "stdout",
          "text": [
            "Keys in this dictionary are : dict_keys(['name', 'author', 'publisher'])\n"
          ]
        }
      ]
    },
    {
      "cell_type": "code",
      "source": [
        "print(\"Values in this dictionary are :\",book.values())"
      ],
      "metadata": {
        "colab": {
          "base_uri": "https://localhost:8080/"
        },
        "id": "CVRgIov_2Zg1",
        "outputId": "94d0848e-18e1-4411-9031-8a56e01f162b"
      },
      "execution_count": null,
      "outputs": [
        {
          "output_type": "stream",
          "name": "stdout",
          "text": [
            "Values in this dictionary are : dict_values(['Python', 'Bharati', 'Wiley'])\n"
          ]
        }
      ]
    },
    {
      "cell_type": "code",
      "source": [
        "print(\"Key-value pairs in this dictionary are :\",book.items())"
      ],
      "metadata": {
        "colab": {
          "base_uri": "https://localhost:8080/"
        },
        "id": "hMOpr6lN2zsP",
        "outputId": "4fd3cf33-e234-4752-d716-b43c2483fed9"
      },
      "execution_count": null,
      "outputs": [
        {
          "output_type": "stream",
          "name": "stdout",
          "text": [
            "Key-value pairs in this dictionary are : dict_items([('name', 'Python'), ('author', 'Bharati'), ('publisher', 'Wiley')])\n"
          ]
        }
      ]
    },
    {
      "cell_type": "markdown",
      "source": [
        "**Functions for Dictionary**"
      ],
      "metadata": {
        "id": "ouUvRXil3lBJ"
      }
    },
    {
      "cell_type": "code",
      "source": [
        "stud={'roll_no':1,'name':'Afinu','age':21}\n",
        "print(stud)"
      ],
      "metadata": {
        "colab": {
          "base_uri": "https://localhost:8080/"
        },
        "id": "SbCtYzfr3qt9",
        "outputId": "b6d54707-68ef-4568-9bcb-ba2f7e9300bc"
      },
      "execution_count": null,
      "outputs": [
        {
          "output_type": "stream",
          "name": "stdout",
          "text": [
            "{'roll_no': 1, 'name': 'Afinu', 'age': 21}\n"
          ]
        }
      ]
    },
    {
      "cell_type": "code",
      "source": [
        "# Addition of new key-value pair to the dictionary\n",
        "stud['subject']='Data Science'\n",
        "print(stud)"
      ],
      "metadata": {
        "colab": {
          "base_uri": "https://localhost:8080/"
        },
        "id": "Mju106D14cQx",
        "outputId": "1a4e1f13-b1b3-49f7-a1a3-26859ddbe48e"
      },
      "execution_count": null,
      "outputs": [
        {
          "output_type": "stream",
          "name": "stdout",
          "text": [
            "{'roll_no': 1, 'name': 'Afinu', 'age': 21, 'subject': 'Data Science'}\n"
          ]
        }
      ]
    },
    {
      "cell_type": "code",
      "source": [
        "#Modification in value of key named age\n",
        "stud['age']=22\n",
        "print(stud)"
      ],
      "metadata": {
        "colab": {
          "base_uri": "https://localhost:8080/"
        },
        "id": "KiqAEVmu4wpK",
        "outputId": "822f5474-9393-46c9-b9c0-849132adaaba"
      },
      "execution_count": null,
      "outputs": [
        {
          "output_type": "stream",
          "name": "stdout",
          "text": [
            "{'roll_no': 1, 'name': 'Afinu', 'age': 22, 'subject': 'Data Science'}\n"
          ]
        }
      ]
    },
    {
      "cell_type": "code",
      "source": [
        "# get() function is used to fetching the value of specified key\n",
        "print(\"The value of subject is\",stud.get('subject'))"
      ],
      "metadata": {
        "colab": {
          "base_uri": "https://localhost:8080/"
        },
        "id": "maGsDTbI5Z6z",
        "outputId": "99343e4a-d0c3-4979-8b84-ab7c1e280ed5"
      },
      "execution_count": null,
      "outputs": [
        {
          "output_type": "stream",
          "name": "stdout",
          "text": [
            "The value of subject is Data Science\n"
          ]
        }
      ]
    },
    {
      "cell_type": "code",
      "source": [
        "# len() function is used to determine the length of dictionary\n",
        "print(len(stud))"
      ],
      "metadata": {
        "colab": {
          "base_uri": "https://localhost:8080/"
        },
        "id": "PkTu-3zb51Wm",
        "outputId": "e23c2016-18f3-4e6a-da92-bd7cc2355d54"
      },
      "execution_count": null,
      "outputs": [
        {
          "output_type": "stream",
          "name": "stdout",
          "text": [
            "4\n"
          ]
        }
      ]
    },
    {
      "cell_type": "code",
      "source": [
        "# sorted() function is used to sort keys in alphabetic order\n",
        "print(sorted(stud))"
      ],
      "metadata": {
        "colab": {
          "base_uri": "https://localhost:8080/"
        },
        "id": "J1J9Lm-K6HM4",
        "outputId": "64e10f8b-79d8-437a-baf1-0a49ada99cc2"
      },
      "execution_count": null,
      "outputs": [
        {
          "output_type": "stream",
          "name": "stdout",
          "text": [
            "['age', 'name', 'roll_no', 'subject']\n"
          ]
        }
      ]
    },
    {
      "cell_type": "code",
      "source": [
        "# pop() function is used to remove a particular key\n",
        "print(stud.pop('age'))"
      ],
      "metadata": {
        "colab": {
          "base_uri": "https://localhost:8080/"
        },
        "id": "c6CG7VDD7ZOz",
        "outputId": "e88ff97d-c717-4f44-c485-6541a154103a"
      },
      "execution_count": null,
      "outputs": [
        {
          "output_type": "stream",
          "name": "stdout",
          "text": [
            "22\n"
          ]
        }
      ]
    },
    {
      "cell_type": "code",
      "source": [
        "print(stud)"
      ],
      "metadata": {
        "colab": {
          "base_uri": "https://localhost:8080/"
        },
        "id": "BzkiNHNJ7ujv",
        "outputId": "79dcca91-71fe-4b08-9c8f-bb36b0d8f721"
      },
      "execution_count": null,
      "outputs": [
        {
          "output_type": "stream",
          "name": "stdout",
          "text": [
            "{'roll_no': 1, 'name': 'Afinu'}\n"
          ]
        }
      ]
    },
    {
      "cell_type": "code",
      "source": [
        "stud['age']=21\n",
        "stud['subject']='Data science'\n",
        "print(stud)"
      ],
      "metadata": {
        "colab": {
          "base_uri": "https://localhost:8080/"
        },
        "id": "tlhnmoag71_M",
        "outputId": "e49588b4-5b93-4c53-8d09-58254b6b3750"
      },
      "execution_count": null,
      "outputs": [
        {
          "output_type": "stream",
          "name": "stdout",
          "text": [
            "{'roll_no': 1, 'name': 'Afinu', 'age': 21, 'subject': 'Data science'}\n"
          ]
        }
      ]
    },
    {
      "cell_type": "code",
      "source": [
        "# copy() function is used to copy a dictionary to another dictionary\n",
        "stud_new=stud.copy()\n",
        "print(stud_new)"
      ],
      "metadata": {
        "colab": {
          "base_uri": "https://localhost:8080/"
        },
        "id": "qENEkyUd8Bq-",
        "outputId": "ac6c0385-e0c6-42bd-c0ba-0adf9401b6bc"
      },
      "execution_count": null,
      "outputs": [
        {
          "output_type": "stream",
          "name": "stdout",
          "text": [
            "{'roll_no': 1, 'name': 'Afinu', 'age': 21, 'subject': 'Data science'}\n"
          ]
        }
      ]
    },
    {
      "cell_type": "code",
      "source": [
        "# the \"in\" is used to determine the existence of key in dictionary\n",
        "print(\"Does name key exist in dictionary\",'name' in stud)\n",
        "print(\"Does gender key exist in dictionary\",'gender' in stud)"
      ],
      "metadata": {
        "colab": {
          "base_uri": "https://localhost:8080/"
        },
        "id": "4RCg0_W48WLQ",
        "outputId": "b047523f-1731-4e30-c245-ecdb1938bc2a"
      },
      "execution_count": null,
      "outputs": [
        {
          "output_type": "stream",
          "name": "stdout",
          "text": [
            "Does name key exist in dictionary True\n",
            "Does gender key exist in dictionary False\n"
          ]
        }
      ]
    },
    {
      "cell_type": "markdown",
      "source": [
        "Programs"
      ],
      "metadata": {
        "id": "oEDd6Qr59HNu"
      }
    },
    {
      "cell_type": "code",
      "source": [
        "# program to determine the total amount of all products\n",
        "p={'Book':800,'Shirt':1000,'Mobile':15000,'Laptop':35000}\n",
        "print(\"Details of products: \",p.items())\n",
        "print(\"Total amount=\",sum(p.values()))"
      ],
      "metadata": {
        "colab": {
          "base_uri": "https://localhost:8080/"
        },
        "id": "MShq7HJv9JRC",
        "outputId": "ae184b6c-bab1-4e4b-836f-0425663bf4e6"
      },
      "execution_count": null,
      "outputs": [
        {
          "output_type": "stream",
          "name": "stdout",
          "text": [
            "Details of products:  dict_items([('Book', 800), ('Shirt', 1000), ('Mobile', 15000), ('Laptop', 35000)])\n",
            "Total amount= 51800\n"
          ]
        }
      ]
    },
    {
      "cell_type": "code",
      "source": [
        "# Program to determine the upper and lower case letters in a sentence\n",
        "dict={'upper':0,'lower':0}\n",
        "s=input(\"Enter the sentence \")\n",
        "\n",
        "for x in s:\n",
        "  if x.isupper():\n",
        "    dict['upper']+=1\n",
        "  elif x.islower():\n",
        "    dict['lower']+=1\n",
        "  else:\n",
        "    pass\n",
        "\n",
        "print(\"Total number of uppercase letters:\",dict['upper'])\n",
        "print(\"Total number of lowercase letters:\",dict['lower'])"
      ],
      "metadata": {
        "colab": {
          "base_uri": "https://localhost:8080/"
        },
        "id": "ylHDWPIT-sqe",
        "outputId": "132140f7-4f2a-4cee-ff22-282dfc9ca90c"
      },
      "execution_count": null,
      "outputs": [
        {
          "output_type": "stream",
          "name": "stdout",
          "text": [
            "Enter the sentence gy LO\n",
            "Total number of uppercase letters: 2\n",
            "Total number of lowercase letters: 2\n"
          ]
        }
      ]
    },
    {
      "cell_type": "code",
      "source": [
        "# Program to calculate the number of letters and digits in a string\n",
        "st=input(\"Enter the alphanumeric string \")\n",
        "dic={'number':0,'letters':0}\n",
        "\n",
        "for x in st:\n",
        "  if x.isdigit():\n",
        "    dic['number']+=1\n",
        "  elif x.isalpha():\n",
        "    dic['letters']+=1\n",
        "  else:\n",
        "    pass\n",
        "\n",
        "print(\"Thotal number of digits:\",dic['number'])\n",
        "print(\"Thotal number of alphabets:\",dic['letters'])"
      ],
      "metadata": {
        "colab": {
          "base_uri": "https://localhost:8080/"
        },
        "id": "yyeZqUWTAFk5",
        "outputId": "1781dcf9-23e1-43f9-9a78-6dee36e77582"
      },
      "execution_count": null,
      "outputs": [
        {
          "output_type": "stream",
          "name": "stdout",
          "text": [
            "Enter the alphanumeric string anu 456\n",
            "Thotal number of digits: 3\n",
            "Thotal number of alphabets: 3\n"
          ]
        }
      ]
    },
    {
      "cell_type": "code",
      "source": [
        "# program to sort dictionary item by value\n",
        "product={'Book':800,'Shirt':1000,'Mobile':15000,'Laptop':35000}\n",
        "print(product.items())\n",
        "\n",
        "print(sorted(product.items()))"
      ],
      "metadata": {
        "colab": {
          "base_uri": "https://localhost:8080/"
        },
        "id": "qJzIJ9mLBjYe",
        "outputId": "c0bf0fec-a624-465c-cd63-4873537847f3"
      },
      "execution_count": null,
      "outputs": [
        {
          "output_type": "stream",
          "name": "stdout",
          "text": [
            "dict_items([('Book', 800), ('Shirt', 1000), ('Mobile', 15000), ('Laptop', 35000)])\n",
            "[('Book', 800), ('Laptop', 35000), ('Mobile', 15000), ('Shirt', 1000)]\n"
          ]
        }
      ]
    },
    {
      "cell_type": "code",
      "source": [
        "print(sorted(product.items(),reverse=True))"
      ],
      "metadata": {
        "colab": {
          "base_uri": "https://localhost:8080/"
        },
        "id": "UH5zWUkKCs2g",
        "outputId": "061154e3-8268-4eb1-c012-b50f84c1d24b"
      },
      "execution_count": null,
      "outputs": [
        {
          "output_type": "stream",
          "name": "stdout",
          "text": [
            "[('Shirt', 1000), ('Mobile', 15000), ('Laptop', 35000), ('Book', 800)]\n"
          ]
        }
      ]
    }
  ]
}