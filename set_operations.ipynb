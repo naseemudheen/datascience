{
  "nbformat": 4,
  "nbformat_minor": 0,
  "metadata": {
    "colab": {
      "provenance": [],
      "collapsed_sections": []
    },
    "kernelspec": {
      "name": "python3",
      "display_name": "Python 3"
    },
    "language_info": {
      "name": "python"
    }
  },
  "cells": [
    {
      "cell_type": "code",
      "execution_count": null,
      "metadata": {
        "id": "7KEua3nnjgKi"
      },
      "outputs": [],
      "source": [
        "a={1,2,3,4,5}\n",
        "b={4,5,6,7,8}"
      ]
    },
    {
      "cell_type": "markdown",
      "source": [
        "**Set Union**:- Union is performed using '**|**' operator. Same can be accomplished using the **union()** method."
      ],
      "metadata": {
        "id": "vsjrzGqk1YRZ"
      }
    },
    {
      "cell_type": "code",
      "source": [
        "print(a|b)"
      ],
      "metadata": {
        "colab": {
          "base_uri": "https://localhost:8080/"
        },
        "id": "uBHvBGxp1tLJ",
        "outputId": "1366adab-61d3-420e-c86a-d0dc975f84d7"
      },
      "execution_count": null,
      "outputs": [
        {
          "output_type": "stream",
          "name": "stdout",
          "text": [
            "{1, 2, 3, 4, 5, 6, 7, 8}\n"
          ]
        }
      ]
    },
    {
      "cell_type": "code",
      "source": [
        "print(a.union(b))"
      ],
      "metadata": {
        "colab": {
          "base_uri": "https://localhost:8080/"
        },
        "id": "Fd_dqZVq1zku",
        "outputId": "7921df42-f342-4c4a-9ae5-f056c4ce9e6b"
      },
      "execution_count": null,
      "outputs": [
        {
          "output_type": "stream",
          "name": "stdout",
          "text": [
            "{1, 2, 3, 4, 5, 6, 7, 8}\n"
          ]
        }
      ]
    },
    {
      "cell_type": "code",
      "source": [
        "print(b.union(a))"
      ],
      "metadata": {
        "colab": {
          "base_uri": "https://localhost:8080/"
        },
        "id": "_6qcbD_o16Y-",
        "outputId": "47327553-8fc9-40a4-edc5-e6fe4e9b1ffd"
      },
      "execution_count": null,
      "outputs": [
        {
          "output_type": "stream",
          "name": "stdout",
          "text": [
            "{1, 2, 3, 4, 5, 6, 7, 8}\n"
          ]
        }
      ]
    },
    {
      "cell_type": "markdown",
      "source": [
        "**Set Intersection**:- returns a set of elements that are common in both sets. It is performed using '**&**' operator or **intersection()** method."
      ],
      "metadata": {
        "id": "PMgwRjtL1_ts"
      }
    },
    {
      "cell_type": "code",
      "source": [
        "print(a&b)"
      ],
      "metadata": {
        "colab": {
          "base_uri": "https://localhost:8080/"
        },
        "id": "ojtIU7_N1-Hi",
        "outputId": "c2d4eafb-fbc5-412b-b2ed-94bd9c8eae9a"
      },
      "execution_count": null,
      "outputs": [
        {
          "output_type": "stream",
          "name": "stdout",
          "text": [
            "{4, 5}\n"
          ]
        }
      ]
    },
    {
      "cell_type": "code",
      "source": [
        "print(a.intersection(b))"
      ],
      "metadata": {
        "colab": {
          "base_uri": "https://localhost:8080/"
        },
        "id": "dbGSK8ao2oyg",
        "outputId": "c2c4d09d-5787-4e14-b3ac-d30516db7dc2"
      },
      "execution_count": null,
      "outputs": [
        {
          "output_type": "stream",
          "name": "stdout",
          "text": [
            "{4, 5}\n"
          ]
        }
      ]
    },
    {
      "cell_type": "code",
      "source": [
        "print(b.intersection(a))"
      ],
      "metadata": {
        "colab": {
          "base_uri": "https://localhost:8080/"
        },
        "id": "LQx7-b622uxO",
        "outputId": "122230ab-2687-4608-b819-b5a430577e30"
      },
      "execution_count": null,
      "outputs": [
        {
          "output_type": "stream",
          "name": "stdout",
          "text": [
            "{4, 5}\n"
          ]
        }
      ]
    },
    {
      "cell_type": "markdown",
      "source": [
        "**Set difference**:- \"a-b\" means set of elements that are only in 'a' not in 'b'. \n",
        "\n",
        "\"b-a\" means set of elements that are only in 'b' not in 'a'\n",
        "\n",
        "It is performed using '**-**' operator or **difference()** method"
      ],
      "metadata": {
        "id": "ZfV29w0c2yZg"
      }
    },
    {
      "cell_type": "code",
      "source": [
        "print(a-b)"
      ],
      "metadata": {
        "colab": {
          "base_uri": "https://localhost:8080/"
        },
        "id": "xIWt4GzF3gvR",
        "outputId": "87e6f1bf-a968-4933-fdd8-4806d4e401c3"
      },
      "execution_count": null,
      "outputs": [
        {
          "output_type": "stream",
          "name": "stdout",
          "text": [
            "{1, 2, 3}\n"
          ]
        }
      ]
    },
    {
      "cell_type": "code",
      "source": [
        "print(b-a)"
      ],
      "metadata": {
        "colab": {
          "base_uri": "https://localhost:8080/"
        },
        "id": "LiBbxXfI3kcy",
        "outputId": "71e28996-916b-436f-b711-a3ca822fa3fb"
      },
      "execution_count": null,
      "outputs": [
        {
          "output_type": "stream",
          "name": "stdout",
          "text": [
            "{8, 6, 7}\n"
          ]
        }
      ]
    },
    {
      "cell_type": "code",
      "source": [
        "print(a.difference(b))"
      ],
      "metadata": {
        "colab": {
          "base_uri": "https://localhost:8080/"
        },
        "id": "I0-rxYbp3s3K",
        "outputId": "fa847d13-9331-48bf-eb0a-afe388930a59"
      },
      "execution_count": null,
      "outputs": [
        {
          "output_type": "stream",
          "name": "stdout",
          "text": [
            "{1, 2, 3}\n"
          ]
        }
      ]
    },
    {
      "cell_type": "code",
      "source": [
        "print(b.difference(a))"
      ],
      "metadata": {
        "colab": {
          "base_uri": "https://localhost:8080/"
        },
        "id": "9OhafjNN33V3",
        "outputId": "5ad98669-62cd-44e7-a65a-c460d1797e9b"
      },
      "execution_count": null,
      "outputs": [
        {
          "output_type": "stream",
          "name": "stdout",
          "text": [
            "{8, 6, 7}\n"
          ]
        }
      ]
    },
    {
      "cell_type": "markdown",
      "source": [
        "**Symmetric difference**:- Elements in a and b but not in both.\n",
        "\n",
        "performed using **^** operator."
      ],
      "metadata": {
        "id": "icn5AX8v3-WQ"
      }
    },
    {
      "cell_type": "code",
      "source": [
        "print(a^b)"
      ],
      "metadata": {
        "id": "GomiNdb64UR3",
        "outputId": "a3bd161d-9bc4-4de6-a9d5-1838baec801c",
        "colab": {
          "base_uri": "https://localhost:8080/"
        }
      },
      "execution_count": null,
      "outputs": [
        {
          "output_type": "stream",
          "name": "stdout",
          "text": [
            "{1, 2, 3, 6, 7, 8}\n"
          ]
        }
      ]
    }
  ]
}