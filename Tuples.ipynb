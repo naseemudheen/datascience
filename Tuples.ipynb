{
  "nbformat": 4,
  "nbformat_minor": 0,
  "metadata": {
    "colab": {
      "provenance": [],
      "collapsed_sections": []
    },
    "kernelspec": {
      "name": "python3",
      "display_name": "Python 3"
    },
    "language_info": {
      "name": "python"
    }
  },
  "cells": [
    {
      "cell_type": "markdown",
      "source": [
        "# **TUPLE**"
      ],
      "metadata": {
        "id": "zoSX2HkZTHHt"
      }
    },
    {
      "cell_type": "markdown",
      "source": [
        "A tuple is a collection of objects separated by comma inside the parantheses"
      ],
      "metadata": {
        "id": "ctE0WIX4TMf_"
      }
    },
    {
      "cell_type": "code",
      "source": [
        "#How to define\n",
        "tp=() # 1st method\n",
        "tp1=tuple() # 2nd method\n",
        "\n",
        "print(type(tp))\n",
        "print(type(tp1))"
      ],
      "metadata": {
        "colab": {
          "base_uri": "https://localhost:8080/"
        },
        "id": "qJ_DSYoKTZfF",
        "outputId": "54e6e49b-39c5-462b-90d2-2c7c5077247b"
      },
      "execution_count": null,
      "outputs": [
        {
          "output_type": "stream",
          "name": "stdout",
          "text": [
            "<class 'tuple'>\n",
            "<class 'tuple'>\n"
          ]
        }
      ]
    },
    {
      "cell_type": "code",
      "source": [
        "#whether supoort heterogeneous data or not\n",
        "tp=(1,2,5.1,8606510640,'sharon',True)\n",
        "print(tp)\n",
        "#support heterogeneous data\n",
        "# Insertion order is preserved"
      ],
      "metadata": {
        "colab": {
          "base_uri": "https://localhost:8080/"
        },
        "id": "cDMgUN0Be_2t",
        "outputId": "a08ec470-8942-46df-a299-dc3092be9b98"
      },
      "execution_count": null,
      "outputs": [
        {
          "output_type": "stream",
          "name": "stdout",
          "text": [
            "(1, 2, 5.1, 8606510640, 'sharon', True)\n"
          ]
        }
      ]
    },
    {
      "cell_type": "code",
      "source": [
        "# Whether allow duplicates or not\n",
        "tp=(1,1,8,8,4.5)\n",
        "print(tp)\n",
        "#allow duplicates"
      ],
      "metadata": {
        "colab": {
          "base_uri": "https://localhost:8080/"
        },
        "id": "RjtZsr96fcTH",
        "outputId": "67716dc6-867b-4742-e351-dffb73bf6560"
      },
      "execution_count": null,
      "outputs": [
        {
          "output_type": "stream",
          "name": "stdout",
          "text": [
            "(1, 1, 8, 8, 4.5)\n"
          ]
        }
      ]
    },
    {
      "cell_type": "code",
      "source": [
        "#mutable or not\n",
        "tp=(10,20,30,40,'sharon',60)\n",
        "#print(tp[4])\n",
        "#tp[4]=50\n",
        "#print(tp)\n",
        "# tuple is immutable   (difference between list and tuple -> list is mutable whereas tuple is immutable)"
      ],
      "metadata": {
        "id": "GtadBAQRf10Q"
      },
      "execution_count": null,
      "outputs": []
    },
    {
      "cell_type": "markdown",
      "source": [
        "Creating tuple with tuple() and range() function"
      ],
      "metadata": {
        "id": "aiYokVuXj_D4"
      }
    },
    {
      "cell_type": "code",
      "source": [
        "tp2=tuple(range(5,15))  #print numbers from 5 to 14\n",
        "print(tp2)\n",
        "\n",
        "tp3=tuple(range(5,15,2))\n",
        "print(tp3)"
      ],
      "metadata": {
        "colab": {
          "base_uri": "https://localhost:8080/"
        },
        "id": "SCnScXw1j0Zo",
        "outputId": "0946ec06-6237-4ac6-84a1-d6155faea295"
      },
      "execution_count": null,
      "outputs": [
        {
          "output_type": "stream",
          "name": "stdout",
          "text": [
            "(5, 6, 7, 8, 9, 10, 11, 12, 13, 14)\n",
            "(5, 7, 9, 11, 13)\n"
          ]
        }
      ]
    },
    {
      "cell_type": "markdown",
      "source": [
        "**Q. Consider a tuple tp=(10,20,30,40,50,60,70,80,90,100). Update the value  30 to 100.** "
      ],
      "metadata": {
        "id": "uCRI0yhOhxgZ"
      }
    },
    {
      "cell_type": "code",
      "source": [
        "tp=(10,20,30,40,50,60,70,80,90,100)\n",
        "# tuple is immutable so we can not update it directly.\n",
        "# Firstly, convert the tuple into a list using list() function.\n",
        "lst=list(tp)\n",
        "# Then update the value in list.\n",
        "lst[2]=100\n",
        "print(lst)\n",
        "# Then convert the list into tuple again because the answer should be in tuple.\n",
        "tp1=tuple(lst)\n",
        "print(tp1)"
      ],
      "metadata": {
        "colab": {
          "base_uri": "https://localhost:8080/"
        },
        "id": "ERWJtij8hdyJ",
        "outputId": "4fe6a3f1-e82f-4f6d-fc58-8b7ac59c99bc"
      },
      "execution_count": null,
      "outputs": [
        {
          "output_type": "stream",
          "name": "stdout",
          "text": [
            "[10, 20, 100, 40, 50, 60, 70, 80, 90, 100]\n",
            "(10, 20, 100, 40, 50, 60, 70, 80, 90, 100)\n"
          ]
        }
      ]
    },
    {
      "cell_type": "markdown",
      "source": [
        "Concatenation of tuples to create a new tuple"
      ],
      "metadata": {
        "id": "iuEHTCl3wTFi"
      }
    },
    {
      "cell_type": "code",
      "source": [
        "t1=(1,2,3,4,5,6,7)\n",
        "t2=(45,78,'sharon')\n",
        "t3=t1+t2\n",
        "print(t3)"
      ],
      "metadata": {
        "colab": {
          "base_uri": "https://localhost:8080/"
        },
        "id": "oWX-o-s0jsBv",
        "outputId": "3f9ea68f-e519-456c-f2fb-94ea8b662b9d"
      },
      "execution_count": null,
      "outputs": [
        {
          "output_type": "stream",
          "name": "stdout",
          "text": [
            "(1, 2, 3, 4, 5, 6, 7, 45, 78, 'sharon')\n"
          ]
        }
      ]
    },
    {
      "cell_type": "markdown",
      "source": [
        "Program to access the items in a tuple"
      ],
      "metadata": {
        "id": "plsUgYCszgKq"
      }
    },
    {
      "cell_type": "code",
      "source": [
        "tp=(1,2,3.4,567890987,'Data science',True)\n",
        "for i in tp:\n",
        "  print(i)"
      ],
      "metadata": {
        "colab": {
          "base_uri": "https://localhost:8080/"
        },
        "id": "jSNEhgZAzTHk",
        "outputId": "5083c645-d238-4042-92dd-bb2ced9f2c49"
      },
      "execution_count": null,
      "outputs": [
        {
          "output_type": "stream",
          "name": "stdout",
          "text": [
            "1\n",
            "2\n",
            "3.4\n",
            "567890987\n",
            "Data science\n",
            "True\n"
          ]
        }
      ]
    },
    {
      "cell_type": "markdown",
      "source": [
        "Program for repetition and determining the existence (using **in**) in tuple"
      ],
      "metadata": {
        "id": "mSfhQbFj0Awa"
      }
    },
    {
      "cell_type": "code",
      "source": [
        "t=(10,20,30)\n",
        "t1=t*3 #repetition of tuple 3 times using * symbol\n",
        "print(t1)"
      ],
      "metadata": {
        "colab": {
          "base_uri": "https://localhost:8080/"
        },
        "id": "4BzGUYMP0LFM",
        "outputId": "0b43fbbb-c1eb-42e3-91ad-6dfb9c656a9e"
      },
      "execution_count": null,
      "outputs": [
        {
          "output_type": "stream",
          "name": "stdout",
          "text": [
            "(10, 20, 30, 10, 20, 30, 10, 20, 30)\n"
          ]
        }
      ]
    },
    {
      "cell_type": "code",
      "source": [
        "t1=(10,20,30,40,50)\n",
        "t2=(100,200,300,400,500)\n",
        "print(\"The element 12 exists in the tuple:\",12 in t1)\n",
        "print(\"The element 100 exists in the tuple:\",100 in t2)"
      ],
      "metadata": {
        "colab": {
          "base_uri": "https://localhost:8080/"
        },
        "id": "Bgvsd6b21QBt",
        "outputId": "380b7cb2-6a26-40b0-e09b-f45ab2e6dd98"
      },
      "execution_count": null,
      "outputs": [
        {
          "output_type": "stream",
          "name": "stdout",
          "text": [
            "The element 12 exists in the tuple: False\n",
            "The element 100 exists in the tuple: True\n"
          ]
        }
      ]
    },
    {
      "cell_type": "markdown",
      "source": [
        "**FUNCTIONS** "
      ],
      "metadata": {
        "id": "pIvs3_Io189l"
      }
    },
    {
      "cell_type": "code",
      "source": [
        "tup=(100,200,350,100,459,111,96,900,679,679)\n",
        "\n",
        "print(\"Sum=\",sum(tup)) # sum of all elements of a tuple\n"
      ],
      "metadata": {
        "colab": {
          "base_uri": "https://localhost:8080/"
        },
        "id": "H26Q8pd88uXL",
        "outputId": "623cf673-1cd4-41e6-d5e8-451dfbc21c55"
      },
      "execution_count": null,
      "outputs": [
        {
          "output_type": "stream",
          "name": "stdout",
          "text": [
            "Sum= 3674\n"
          ]
        }
      ]
    },
    {
      "cell_type": "code",
      "source": [
        "print(\"Maximum no. in the tuple=\",max(tup))"
      ],
      "metadata": {
        "colab": {
          "base_uri": "https://localhost:8080/"
        },
        "id": "YzxvEmFz9ScG",
        "outputId": "1bffdc17-7582-4722-c8e1-4dff5c034d1f"
      },
      "execution_count": null,
      "outputs": [
        {
          "output_type": "stream",
          "name": "stdout",
          "text": [
            "Maximum no. in the tuple= 900\n"
          ]
        }
      ]
    },
    {
      "cell_type": "code",
      "source": [
        "print(\"Minimum no. in the tuple=\",min(tup))"
      ],
      "metadata": {
        "colab": {
          "base_uri": "https://localhost:8080/"
        },
        "id": "i3PXgO6g9cUC",
        "outputId": "67ffc5d0-c725-45f4-e77f-14f01d0f75b0"
      },
      "execution_count": null,
      "outputs": [
        {
          "output_type": "stream",
          "name": "stdout",
          "text": [
            "Minimum no. in the tuple= 96\n"
          ]
        }
      ]
    },
    {
      "cell_type": "code",
      "source": [
        "print(\"Length of the tuple=\",len(tup))"
      ],
      "metadata": {
        "colab": {
          "base_uri": "https://localhost:8080/"
        },
        "id": "5hNYaB7o9h5d",
        "outputId": "93aa8447-a4b6-4d9c-9074-c65d9edfd06c"
      },
      "execution_count": null,
      "outputs": [
        {
          "output_type": "stream",
          "name": "stdout",
          "text": [
            "Length of the tuple= 9\n"
          ]
        }
      ]
    },
    {
      "cell_type": "code",
      "source": [
        "print(\"Number of times 679 occured in tuple:\",tup.count(679))"
      ],
      "metadata": {
        "colab": {
          "base_uri": "https://localhost:8080/"
        },
        "id": "zJIDmquh9sL3",
        "outputId": "7a5a2495-fb57-47c4-a577-e62049be1691"
      },
      "execution_count": null,
      "outputs": [
        {
          "output_type": "stream",
          "name": "stdout",
          "text": [
            "Number of times 679 occured in tuple: 2\n"
          ]
        }
      ]
    },
    {
      "cell_type": "code",
      "source": [
        "print(\"The first position of element 100 in tuple\",tup.index(100))"
      ],
      "metadata": {
        "colab": {
          "base_uri": "https://localhost:8080/"
        },
        "id": "QjjUFR6n-HMF",
        "outputId": "fc24244a-e1c6-403b-93d6-d9aa336005a1"
      },
      "execution_count": null,
      "outputs": [
        {
          "output_type": "stream",
          "name": "stdout",
          "text": [
            "The first position of element 100 in tuple 0\n"
          ]
        }
      ]
    },
    {
      "cell_type": "code",
      "source": [
        "print(\"The  position of element 111 in tuple\",tup.index(111))"
      ],
      "metadata": {
        "colab": {
          "base_uri": "https://localhost:8080/"
        },
        "id": "UoHgKqCT-hXX",
        "outputId": "8dd932b3-d6a6-4355-d94e-4ab1e95e88d5"
      },
      "execution_count": null,
      "outputs": [
        {
          "output_type": "stream",
          "name": "stdout",
          "text": [
            "The  position of element 111 in tuple 5\n"
          ]
        }
      ]
    },
    {
      "cell_type": "code",
      "source": [
        "print(sorted(tup)) # Ascending order (default)"
      ],
      "metadata": {
        "colab": {
          "base_uri": "https://localhost:8080/"
        },
        "id": "1PGdPP3y-5YV",
        "outputId": "7c8f3f2f-e539-409f-8483-3a3214a8e171"
      },
      "execution_count": null,
      "outputs": [
        {
          "output_type": "stream",
          "name": "stdout",
          "text": [
            "[96, 100, 100, 111, 200, 350, 459, 679, 679, 900]\n"
          ]
        }
      ]
    },
    {
      "cell_type": "code",
      "source": [
        "print(sorted(tup,reverse=True)) # Descending order"
      ],
      "metadata": {
        "colab": {
          "base_uri": "https://localhost:8080/"
        },
        "id": "rA71trtj_IoD",
        "outputId": "076abe49-3fde-4e06-835a-8e7b59ab6a3f"
      },
      "execution_count": null,
      "outputs": [
        {
          "output_type": "stream",
          "name": "stdout",
          "text": [
            "[900, 679, 679, 459, 350, 200, 111, 100, 100, 96]\n"
          ]
        }
      ]
    },
    {
      "cell_type": "markdown",
      "source": [
        "Program to compare two tuples"
      ],
      "metadata": {
        "id": "xfbVXErD_cgx"
      }
    },
    {
      "cell_type": "code",
      "source": [
        "t1=('suhaan','rahul','diya')\n",
        "t2=('Rahul','ravi','rani','diya')\n",
        "for i in t1:\n",
        "  for j in t2:\n",
        "    if(i==j):\n",
        "      print(\"Both the tuples have common name as\",i)"
      ],
      "metadata": {
        "colab": {
          "base_uri": "https://localhost:8080/"
        },
        "id": "pYK9XgRH_gbR",
        "outputId": "57498bdb-d658-400c-8f9d-4cae803280c8"
      },
      "execution_count": null,
      "outputs": [
        {
          "output_type": "stream",
          "name": "stdout",
          "text": [
            "Both the tuples have common name as diya\n"
          ]
        }
      ]
    },
    {
      "cell_type": "code",
      "source": [
        "t1=('suhaan','Rahul','diya')\n",
        "t2=('Rahul','ravi','rani','diya')\n",
        "for i in t1:\n",
        "  for j in t2:\n",
        "    if(i==j):\n",
        "      print(\"Both the tuples have common name as\",i)"
      ],
      "metadata": {
        "colab": {
          "base_uri": "https://localhost:8080/"
        },
        "id": "cc9kXt_HAGG7",
        "outputId": "295c45a7-92db-4c27-9596-bc761ead8774"
      },
      "execution_count": null,
      "outputs": [
        {
          "output_type": "stream",
          "name": "stdout",
          "text": [
            "Both the tuples have common name as Rahul\n",
            "Both the tuples have common name as diya\n"
          ]
        }
      ]
    }
  ]
}