{
  "nbformat": 4,
  "nbformat_minor": 0,
  "metadata": {
    "colab": {
      "provenance": [],
      "collapsed_sections": []
    },
    "kernelspec": {
      "name": "python3",
      "display_name": "Python 3"
    },
    "language_info": {
      "name": "python"
    }
  },
  "cells": [
    {
      "cell_type": "code",
      "execution_count": null,
      "metadata": {
        "id": "MlRAwpGH0w9c"
      },
      "outputs": [],
      "source": [
        "import re\n"
      ]
    },
    {
      "cell_type": "code",
      "source": [
        "str='Sharon Jacob'"
      ],
      "metadata": {
        "id": "1oAdjXHr08Pw"
      },
      "execution_count": null,
      "outputs": []
    },
    {
      "cell_type": "code",
      "source": [
        "print(re.findall(r'a',str))"
      ],
      "metadata": {
        "colab": {
          "base_uri": "https://localhost:8080/"
        },
        "id": "5dTfWs7v1Lxf",
        "outputId": "de64fa8b-2d1b-477c-bf64-d836464f8272"
      },
      "execution_count": null,
      "outputs": [
        {
          "output_type": "stream",
          "name": "stdout",
          "text": [
            "['a', 'a']\n"
          ]
        }
      ]
    },
    {
      "cell_type": "code",
      "source": [
        "print(re.findall('xyz',str))"
      ],
      "metadata": {
        "colab": {
          "base_uri": "https://localhost:8080/"
        },
        "id": "roUrjCB71SDX",
        "outputId": "c0e04ce6-14eb-4064-8102-7dab70a525e3"
      },
      "execution_count": null,
      "outputs": [
        {
          "output_type": "stream",
          "name": "stdout",
          "text": [
            "[]\n"
          ]
        }
      ]
    },
    {
      "cell_type": "code",
      "source": [
        "print(re.findall('ha',str))"
      ],
      "metadata": {
        "colab": {
          "base_uri": "https://localhost:8080/"
        },
        "id": "qIqVSvTs15Ig",
        "outputId": "80488cf9-897a-40e2-d91f-3b4074ae2ae9"
      },
      "execution_count": null,
      "outputs": [
        {
          "output_type": "stream",
          "name": "stdout",
          "text": [
            "['ha']\n"
          ]
        }
      ]
    },
    {
      "cell_type": "code",
      "source": [
        "print(re.search('a',str))"
      ],
      "metadata": {
        "colab": {
          "base_uri": "https://localhost:8080/"
        },
        "id": "tKEeeXTk2CNK",
        "outputId": "28bfdbe2-869b-422e-eaea-ba5633565d19"
      },
      "execution_count": null,
      "outputs": [
        {
          "output_type": "stream",
          "name": "stdout",
          "text": [
            "<re.Match object; span=(2, 3), match='a'>\n"
          ]
        }
      ]
    },
    {
      "cell_type": "code",
      "source": [
        "print(re.match('a',str))"
      ],
      "metadata": {
        "colab": {
          "base_uri": "https://localhost:8080/"
        },
        "id": "3XAI6JWO2Lgs",
        "outputId": "0bdc5c36-630a-4e6b-e68e-3d56f1b697e2"
      },
      "execution_count": null,
      "outputs": [
        {
          "output_type": "stream",
          "name": "stdout",
          "text": [
            "None\n"
          ]
        }
      ]
    },
    {
      "cell_type": "code",
      "source": [
        "print(re.match('S',str))"
      ],
      "metadata": {
        "colab": {
          "base_uri": "https://localhost:8080/"
        },
        "id": "pbBUfpjd2tDi",
        "outputId": "8b090fe9-ec9c-4fb5-e4e2-688df198a291"
      },
      "execution_count": null,
      "outputs": [
        {
          "output_type": "stream",
          "name": "stdout",
          "text": [
            "<re.Match object; span=(0, 1), match='S'>\n"
          ]
        }
      ]
    },
    {
      "cell_type": "code",
      "source": [
        "print(re.match('h',str))"
      ],
      "metadata": {
        "colab": {
          "base_uri": "https://localhost:8080/"
        },
        "id": "cy_9tDe62x8t",
        "outputId": "92b628d9-ba8a-4595-b91a-f2cc23f7e6c5"
      },
      "execution_count": null,
      "outputs": [
        {
          "output_type": "stream",
          "name": "stdout",
          "text": [
            "None\n"
          ]
        }
      ]
    },
    {
      "cell_type": "code",
      "source": [
        "str1=\"Hamna is a singer\"\n",
        "print(re.split(\"Hamna\",str1))"
      ],
      "metadata": {
        "colab": {
          "base_uri": "https://localhost:8080/"
        },
        "id": "0k5DKgxv3h54",
        "outputId": "b65f1637-0678-438f-9d78-1f768c64a4f2"
      },
      "execution_count": null,
      "outputs": [
        {
          "output_type": "stream",
          "name": "stdout",
          "text": [
            "['', ' is a singer']\n"
          ]
        }
      ]
    },
    {
      "cell_type": "code",
      "source": [
        "print(re.split(\"s\",str1))"
      ],
      "metadata": {
        "colab": {
          "base_uri": "https://localhost:8080/"
        },
        "id": "FxEKKjET4FZG",
        "outputId": "816f4f7b-fa25-41f5-ebcf-b766068c77a9"
      },
      "execution_count": null,
      "outputs": [
        {
          "output_type": "stream",
          "name": "stdout",
          "text": [
            "['Hamna i', ' a ', 'inger']\n"
          ]
        }
      ]
    },
    {
      "cell_type": "code",
      "source": [
        "print(re.split(\" \",str1))"
      ],
      "metadata": {
        "colab": {
          "base_uri": "https://localhost:8080/"
        },
        "id": "iMd63FyB4K5A",
        "outputId": "f9c1209b-cf8d-4c7b-db62-9fd28b8c08a1"
      },
      "execution_count": null,
      "outputs": [
        {
          "output_type": "stream",
          "name": "stdout",
          "text": [
            "['Hamna', 'is', 'a', 'singer']\n"
          ]
        }
      ]
    },
    {
      "cell_type": "code",
      "source": [
        "print(re.split(\" \",str1,1))"
      ],
      "metadata": {
        "colab": {
          "base_uri": "https://localhost:8080/"
        },
        "id": "OoyG1PW-4PFe",
        "outputId": "eb031f1b-95f1-4c32-ea04-bdf8fcb20e53"
      },
      "execution_count": null,
      "outputs": [
        {
          "output_type": "stream",
          "name": "stdout",
          "text": [
            "['Hamna', 'is a singer']\n"
          ]
        }
      ]
    },
    {
      "cell_type": "code",
      "source": [
        "print(re.split(\" \",str1,2))"
      ],
      "metadata": {
        "colab": {
          "base_uri": "https://localhost:8080/"
        },
        "id": "fFwKq4XD4ThX",
        "outputId": "c983c9b4-75d5-46b0-d168-00864654cec8"
      },
      "execution_count": null,
      "outputs": [
        {
          "output_type": "stream",
          "name": "stdout",
          "text": [
            "['Hamna', 'is', 'a singer']\n"
          ]
        }
      ]
    },
    {
      "cell_type": "code",
      "source": [
        "print(re.split(\"\",str1))"
      ],
      "metadata": {
        "colab": {
          "base_uri": "https://localhost:8080/"
        },
        "id": "G3I7bdUQ4cQq",
        "outputId": "12671435-96ff-45c1-e167-f4aadbda3150"
      },
      "execution_count": null,
      "outputs": [
        {
          "output_type": "stream",
          "name": "stdout",
          "text": [
            "['', 'H', 'a', 'm', 'n', 'a', ' ', 'i', 's', ' ', 'a', ' ', 's', 'i', 'n', 'g', 'e', 'r', '']\n"
          ]
        }
      ]
    },
    {
      "cell_type": "code",
      "source": [
        "str2=re.sub(\"Hamna\",\"Nandhu\",str1)\n",
        "print(str2)"
      ],
      "metadata": {
        "colab": {
          "base_uri": "https://localhost:8080/"
        },
        "id": "g5yJY3I76K5x",
        "outputId": "1dc0e3ee-95b2-460e-9f48-f25bed96ddba"
      },
      "execution_count": null,
      "outputs": [
        {
          "output_type": "stream",
          "name": "stdout",
          "text": [
            "Nandhu is a singer\n"
          ]
        }
      ]
    }
  ]
}